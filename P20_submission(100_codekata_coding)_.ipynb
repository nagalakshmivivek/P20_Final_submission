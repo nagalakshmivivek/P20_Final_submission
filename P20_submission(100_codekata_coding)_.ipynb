{
  "cells": [
    {
      "cell_type": "code",
      "execution_count": null,
      "metadata": {
        "colab": {
          "base_uri": "https://localhost:8080/"
        },
        "id": "Tco_qPuZyw8-",
        "outputId": "052ad5bb-18a8-41b1-a50d-799b57021678"
      },
      "outputs": [
        {
          "name": "stdout",
          "output_type": "stream",
          "text": [
            "2\n",
            "2\n"
          ]
        }
      ],
      "source": [
        "\"\"\" (1) Input/Output\n",
        "Write a code to get the input in the given format and print the output in the given format\n",
        "\n",
        "Input Description:\n",
        "To take an integer value\n",
        "\n",
        "Output Description:\n",
        "Print the integer value\n",
        "\n",
        "Sample Input :\n",
        "2\n",
        "Sample Output :\n",
        "2\"\"\"\n",
        "\n",
        "a = int(input())\n",
        "print(a)"
      ]
    },
    {
      "cell_type": "code",
      "execution_count": null,
      "metadata": {
        "colab": {
          "base_uri": "https://localhost:8080/"
        },
        "id": "iLhFd26o0rYb",
        "outputId": "8e8d823e-c842-4671-f0a7-eaccd1f327fc"
      },
      "outputs": [
        {
          "name": "stdout",
          "output_type": "stream",
          "text": [
            "2 3 4 5 6 7 8\n",
            "2 3 4 5 6 7 8\n"
          ]
        }
      ],
      "source": [
        "\"\"\" (2) Input/Output\n",
        "Write a code to get the input in the given format and print the output in the given format\n",
        "\n",
        "Input Description:\n",
        "A single line contains integers separated by space\n",
        "\n",
        "Output Description:\n",
        "Print the integer list of integers separated by space\n",
        "\n",
        "Sample Input :\n",
        "2 3 4 5 6 7 8\n",
        "Sample Output :\n",
        "2 3 4 5 6 7 8\"\"\"\n",
        "a=list(map(int,input().split()))\n",
        "print(*a)"
      ]
    },
    {
      "cell_type": "code",
      "execution_count": null,
      "metadata": {
        "colab": {
          "base_uri": "https://localhost:8080/"
        },
        "id": "8CgSN2ha1GZM",
        "outputId": "ab60c22e-e16a-49a9-c62a-624e666eab26"
      },
      "outputs": [
        {
          "name": "stdout",
          "output_type": "stream",
          "text": [
            "5 3 \n",
            "1 2 3 4 5\n",
            "5 3\n",
            "1 2 3 4 5\n"
          ]
        }
      ],
      "source": [
        "\"\"\"(3) Input/Output\n",
        "Write a code to get the input in the given format and print the output in the given format.\n",
        "\n",
        "Input Description:\n",
        "First-line indicates two integers which are the size of array and 'K' value. Second-line indicates an integer contains elements of an array.\n",
        "\n",
        "Output Description:\n",
        "Print the taken input in the same format.\n",
        "\n",
        "Sample Input :\n",
        "5 3\n",
        "1 2 3 4 5\n",
        "Sample Output :\n",
        "5 3\n",
        "1 2 3 4 5\"\"\"\n",
        "a = list(map(int,input().split()))\n",
        "b = list(map(int,input().split()))\n",
        "print(*a)\n",
        "print(*b)"
      ]
    },
    {
      "cell_type": "code",
      "execution_count": null,
      "metadata": {
        "colab": {
          "base_uri": "https://localhost:8080/"
        },
        "id": "9fuv6xol1ecs",
        "outputId": "46855271-9202-40b3-bdd2-a73769d406cd"
      },
      "outputs": [
        {
          "name": "stdout",
          "output_type": "stream",
          "text": [
            "2 4\n",
            "2 4\n",
            "2 4\n",
            "2 4\n",
            "2 4\n",
            "2 4\n"
          ]
        }
      ],
      "source": [
        "\"\"\" (4) Input/Output\n",
        "Write a code to get the input in the given format and print the output in the given format\n",
        "\n",
        "Input Description:\n",
        "First-line indicates two integers separated by space. Second-line indicates two integers separated by space. Third-line indicates two integers separated by space.\n",
        "\n",
        "Output Description:\n",
        "Print the input in the same format.\n",
        "\n",
        "Sample Input :\n",
        "2 4\n",
        "2 4\n",
        "2 4\n",
        "Sample Output :\n",
        "2 4\n",
        "2 4\n",
        "2 4\"\"\"\n",
        "a = list(map(int,input().split()))\n",
        "b = list(map(int,input().split()))\n",
        "c = list(map(int,input().split()))\n",
        "print(*a)\n",
        "print(*b)\n",
        "print(*c)"
      ]
    },
    {
      "cell_type": "code",
      "execution_count": null,
      "metadata": {
        "colab": {
          "base_uri": "https://localhost:8080/"
        },
        "id": "ewz4h99_135O",
        "outputId": "06833a57-19a4-4701-876b-0646dc4104ff"
      },
      "outputs": [
        {
          "name": "stdout",
          "output_type": "stream",
          "text": [
            "2\n",
            "4\n",
            "5\n",
            "2 4 5\n"
          ]
        }
      ],
      "source": [
        "\"\"\" (5) Input/Output\n",
        "Write a code to get the input in the given format and print the output in the given format\n",
        "\n",
        "Input Description:\n",
        "Three integers are given in line by line.\n",
        "\n",
        "Output Description:\n",
        "Print the integers in a single line separate by space.\n",
        "\n",
        "Sample Input :\n",
        "2\n",
        "4\n",
        "5\n",
        "Sample Output :\n",
        "2 4 5\"\"\"\n",
        "a = int(input())\n",
        "b = int(input())\n",
        "c = int(input())\n",
        "print(a,b,c)"
      ]
    },
    {
      "cell_type": "code",
      "execution_count": null,
      "metadata": {
        "colab": {
          "base_uri": "https://localhost:8080/"
        },
        "id": "SfbY1CdA2PUY",
        "outputId": "85adeb98-b955-4f83-eca6-6b6f12755d0d"
      },
      "outputs": [
        {
          "name": "stdout",
          "output_type": "stream",
          "text": [
            "2 5\n",
            "2 5 6\n",
            "2 4 5\n",
            "2 5\n",
            "2 5 6\n",
            "2 4 5\n"
          ]
        }
      ],
      "source": [
        "\"\"\"(6)Input/Output\n",
        "Write a code to get the input in the given format and print the output in the given format\n",
        "\n",
        "Input Description:\n",
        "First-line indicates two integers separated by space. Second-line indicates three integers separated by space. Third-line indicates three integers separated by space\n",
        "\n",
        "Output Description:\n",
        "Print the input in the same format.\n",
        "\n",
        "Sample Input :\n",
        "2 5\n",
        "2 5 6\n",
        "2 4 5\n",
        "Sample Output :\n",
        "2 5\n",
        "2 5 6\n",
        "2 4 5\"\"\"\n",
        "a = list(map(int,input().split()))\n",
        "b = list(map(int,input().split()))\n",
        "c = list(map(int,input().split()))\n",
        "print(*a)\n",
        "print(*b)\n",
        "print(*c)"
      ]
    },
    {
      "cell_type": "code",
      "execution_count": null,
      "metadata": {
        "colab": {
          "base_uri": "https://localhost:8080/"
        },
        "id": "3LsQNadQ2qM3",
        "outputId": "1a68d5cb-d5b7-444d-84d7-1d5cecb2aa44"
      },
      "outputs": [
        {
          "name": "stdout",
          "output_type": "stream",
          "text": [
            "guvi\n",
            "g u v i\n"
          ]
        }
      ],
      "source": [
        "\"\"\"(7) Input/Output\n",
        "Write a code to get the input in the given format and print the output in the given format\n",
        "\n",
        "Input Description:\n",
        "A single line contains a string.\n",
        "\n",
        "Output Description:\n",
        "Print the characters in a string separated by space.\n",
        "\n",
        "Sample Input :\n",
        "guvi\n",
        "Sample Output :\n",
        "g u v i\"\"\"\n",
        "s = input()\n",
        "print(\" \".join(s))"
      ]
    },
    {
      "cell_type": "code",
      "execution_count": null,
      "metadata": {
        "colab": {
          "base_uri": "https://localhost:8080/"
        },
        "id": "h5tmlAtv3AjE",
        "outputId": "0c60f4ac-4cda-450f-fde7-13b85269acb8"
      },
      "outputs": [
        {
          "name": "stdout",
          "output_type": "stream",
          "text": [
            "2.3 4.5 7.8\n",
            "2.3\n",
            "4.5\n",
            "7.8\n"
          ]
        }
      ],
      "source": [
        "\"\"\"(8) Input/Output\n",
        "Write a code to get the input in the given format and print the output in the given format.\n",
        "\n",
        "Input Description:\n",
        "A single line contains three float values separated by space.\n",
        "\n",
        "Output Description:\n",
        "Print the float value separated by line.\n",
        "\n",
        "Sample Input :\n",
        "2.3 4.5 7.8\n",
        "Sample Output :\n",
        "2.3\n",
        "4.5\n",
        "7.8\"\"\"\n",
        "a = list(map(float,input().split()))\n",
        "print(a[0])\n",
        "print(a[1])\n",
        "print(a[2])"
      ]
    },
    {
      "cell_type": "code",
      "execution_count": null,
      "metadata": {
        "colab": {
          "base_uri": "https://localhost:8080/"
        },
        "id": "Oj_5aa453Nqz",
        "outputId": "69335f4a-25aa-4ee9-c9c4-36327ffe4732"
      },
      "outputs": [
        {
          "name": "stdout",
          "output_type": "stream",
          "text": [
            "guvigeek\n",
            "g\n",
            "u\n",
            "v\n",
            "i\n",
            "g\n",
            "e\n",
            "e\n",
            "k\n"
          ]
        }
      ],
      "source": [
        "\"\"\"(9) Input/Output\n",
        "Write a code to get the input in the given format and print the output in the given format.\n",
        "\n",
        "Input Description:\n",
        "A single line contains a string.\n",
        "\n",
        "Output Description:\n",
        "Print the characters in a string separated by line.\n",
        "\n",
        "Sample Input :\n",
        "guvigeek\n",
        "Sample Output :\n",
        "g\n",
        "u\n",
        "v\n",
        "i\n",
        "g\n",
        "e\n",
        "e\n",
        "k\"\"\"\n",
        "a = input()\n",
        "for x in a:\n",
        "    print(x)"
      ]
    },
    {
      "cell_type": "code",
      "execution_count": null,
      "metadata": {
        "colab": {
          "base_uri": "https://localhost:8080/"
        },
        "id": "Y5bBQF9v4O0y",
        "outputId": "065b25a9-d00f-4afe-9751-86c9a3df5bef"
      },
      "outputs": [
        {
          "name": "stdout",
          "output_type": "stream",
          "text": [
            "guvi\n",
            "g,u,v,i\n"
          ]
        }
      ],
      "source": [
        "\"\"\" (10) Input/Output\n",
        "Write a code to get the input in the given format and print the output in the given format.\n",
        "\n",
        "Input Description:\n",
        "A single line contains a string.\n",
        "\n",
        "Output Description:\n",
        "Print the characters in a string separated by comma.\n",
        "\n",
        "Sample Input :\n",
        "guvi\n",
        "Sample Output :\n",
        "g,u,v,i\"\"\"\n",
        "a = input()\n",
        "print(\",\".join(a))"
      ]
    },
    {
      "cell_type": "code",
      "execution_count": null,
      "metadata": {
        "colab": {
          "base_uri": "https://localhost:8080/"
        },
        "id": "ePC0l4nY4g_T",
        "outputId": "ae1926b7-3aaf-4ab5-ac36-0706e6044f8b"
      },
      "outputs": [
        {
          "name": "stdout",
          "output_type": "stream",
          "text": [
            "2\n",
            "2\n"
          ]
        }
      ],
      "source": [
        "\"\"\" (11) Absolute Beginner\n",
        "You are provided with a number, \"N\". Find its factorial.\n",
        "\n",
        "Input Description:\n",
        "A positive integer is provided as an input.\n",
        "\n",
        "Output Description:\n",
        "Print the factorial of the integer.\n",
        "\n",
        "Sample Input :\n",
        "2\n",
        "Sample Output :\n",
        "2\"\"\"\n",
        "import math\n",
        "a=int(input())\n",
        "print(math.factorial(a))\n"
      ]
    },
    {
      "cell_type": "code",
      "execution_count": null,
      "metadata": {
        "colab": {
          "base_uri": "https://localhost:8080/"
        },
        "id": "5cqAFJSw5DTQ",
        "outputId": "3c39e2db-47d1-498d-a095-467104d3c504"
      },
      "outputs": [
        {
          "name": "stdout",
          "output_type": "stream",
          "text": [
            "2\n",
            "3\n",
            "6\n"
          ]
        }
      ],
      "source": [
        "\"\"\" (12) Absolute Beginner\n",
        "You are given A = Length of a rectangle & B = breadth of a rectangle. Find its area “C”.\n",
        "\n",
        "(A and B are natural numbers)\n",
        "\n",
        "Input Description:\n",
        "The inputs are two natural numbers representing the length and the breadth of a rectangle.\n",
        "\n",
        "Output Description:\n",
        "Find the area of the rectangle formed by the provided input. Round off the answer to the first decimal place if required.\n",
        "\n",
        "Sample Input :\n",
        "2\n",
        "3\n",
        "Sample Output :\n",
        "6\"\"\"\n",
        "A = int(input())\n",
        "B = int(input())\n",
        "C = A*B\n",
        "print(C)\n"
      ]
    },
    {
      "cell_type": "code",
      "execution_count": null,
      "metadata": {
        "colab": {
          "base_uri": "https://localhost:8080/"
        },
        "id": "zGQ1zpcD5W7M",
        "outputId": "7cb9d1a8-dbc5-422e-94c9-5524f88731b2"
      },
      "outputs": [
        {
          "name": "stdout",
          "output_type": "stream",
          "text": [
            "1\n",
            "2\n",
            "3\n",
            "3\n"
          ]
        }
      ],
      "source": [
        "\"\"\" (13) Absolute Beginner\n",
        "You are given three numbers A, B & C. Print the largest amongst these three numbers.\n",
        "\n",
        "Input Description:\n",
        "Three numbers are provided to you.\n",
        "\n",
        "Output Description:\n",
        "Find and print the largest among the three\n",
        "\n",
        "Sample Input :\n",
        "1\n",
        "2\n",
        "3\n",
        "Sample Output :\n",
        "3\"\"\"\n",
        "a = int(input())\n",
        "b = int(input())\n",
        "c = int(input())\n",
        "largest = max(a,b,c)\n",
        "print(largest)"
      ]
    },
    {
      "cell_type": "code",
      "execution_count": null,
      "metadata": {
        "colab": {
          "base_uri": "https://localhost:8080/"
        },
        "id": "eDTYi6k46E4e",
        "outputId": "237c0766-99a7-47f6-af38-59aeb46b9c87"
      },
      "outputs": [
        {
          "name": "stdout",
          "output_type": "stream",
          "text": [
            "1\n",
            "1\n",
            "2\n"
          ]
        }
      ],
      "source": [
        "\"\"\"(14) Absolute Beginner\n",
        "You are given Two Numbers, A and B. If C = A + B. Find C.\n",
        "\n",
        "Note: Round off the output to a single decimal place.\n",
        "\n",
        "Input Description:\n",
        "You are provided with two numbers A and B.\n",
        "\n",
        "Output Description:\n",
        "Find the sum of the two numbers (A + B)\n",
        "\n",
        "Sample Input :\n",
        "1\n",
        "1\n",
        "Sample Output :\n",
        "2\"\"\"\n",
        "a = int(input())\n",
        "b = int(input())\n",
        "c = a + b\n",
        "print(c)"
      ]
    },
    {
      "cell_type": "code",
      "execution_count": null,
      "metadata": {
        "colab": {
          "base_uri": "https://localhost:8080/"
        },
        "id": "DHGaSXoK6lHL",
        "outputId": "4606184f-ee7a-4e2f-ba4e-7d63048e3166"
      },
      "outputs": [
        {
          "name": "stdout",
          "output_type": "stream",
          "text": [
            "2\n",
            "8\n"
          ]
        }
      ],
      "source": [
        "\"\"\"(15) Absolute Beginner\n",
        "You are given with a number \"N\", find its cube.\n",
        "\n",
        "Input Description:\n",
        "A positive integer is provided.\n",
        "\n",
        "Output Description:\n",
        "Find the cube of the number.\n",
        "\n",
        "Sample Input :\n",
        "2\n",
        "Sample Output :\n",
        "8\"\"\"\n",
        "n=int(input())\n",
        "c=n**3\n",
        "print(c)"
      ]
    },
    {
      "cell_type": "code",
      "execution_count": null,
      "metadata": {
        "colab": {
          "base_uri": "https://localhost:8080/"
        },
        "id": "VabRo3Nd76hP",
        "outputId": "4b315093-52d0-469f-ab3d-982136c38d89"
      },
      "outputs": [
        {
          "name": "stdout",
          "output_type": "stream",
          "text": [
            "2\n",
            "2000\n",
            "200000\n"
          ]
        }
      ],
      "source": [
        "\"\"\"(16) Absolute Beginner\n",
        "You are given a number A in Kilometers. Convert this into B: Meters and C: Centi-Metres.\n",
        "\n",
        "Input Description:\n",
        "A number \"A\" representing some distance in kilometer is provided to you as the input.\n",
        "\n",
        "Output Description:\n",
        "Convert and print this value in meters and centimeters.\n",
        "\n",
        "Sample Input :\n",
        "2\n",
        "Sample Output :\n",
        "2000\n",
        "200000\"\"\"\n",
        "a = int(input())\n",
        "b = a*1000\n",
        "c = a*100000\n",
        "print(b)\n",
        "print(c)"
      ]
    },
    {
      "cell_type": "code",
      "execution_count": null,
      "metadata": {
        "colab": {
          "base_uri": "https://localhost:8080/"
        },
        "id": "dBAqsh4s8MgO",
        "outputId": "5a277e17-d1b9-419e-b3ec-e1fe3e736014"
      },
      "outputs": [
        {
          "name": "stdout",
          "output_type": "stream",
          "text": [
            "23 1\n",
            "1\n"
          ]
        }
      ],
      "source": [
        "\"\"\"(17) Absolute Beginner\n",
        "You are provided with two numbers. Find and print the smaller number.\n",
        "\n",
        "Input Description:\n",
        "You are provided with two numbers as input.\n",
        "\n",
        "Output Description:\n",
        "Print the small number out of the two numbers.\n",
        "\n",
        "Sample Input :\n",
        "23 1\n",
        "Sample Output :\n",
        "1\"\"\"\n",
        "a = list(map(int,input().split()))\n",
        "m = min(a)\n",
        "print(m)"
      ]
    },
    {
      "cell_type": "code",
      "execution_count": null,
      "metadata": {
        "colab": {
          "base_uri": "https://localhost:8080/"
        },
        "id": "aVyW2j0p8etE",
        "outputId": "6a50a3cd-4887-469d-dfc8-3fe29f693b7a"
      },
      "outputs": [
        {
          "name": "stdout",
          "output_type": "stream",
          "text": [
            "2\n",
            "12.57\n"
          ]
        }
      ],
      "source": [
        "\"\"\"(18) Absolute Beginner\n",
        "You are provided with the radius of a circle \"A\". Find the length of its circumference.\n",
        "\n",
        "Note: In case the output is coming in decimal, roundoff to 2nd decimal place. In case the input is a negative number, print \"Error\".\n",
        "\n",
        "Input Description:\n",
        "The Radius of a circle is provided as the input of the program.\n",
        "\n",
        "Output Description:\n",
        "Calculate and print the Circumference of the circle corresponding to the input radius up to two decimal places.\n",
        "\n",
        "Sample Input :\n",
        "2\n",
        "Sample Output :\n",
        "12.57\"\"\"\n",
        "A = float(input())\n",
        "b = 2*(22*A)\n",
        "c = b/7\n",
        "print(round(c,2))"
      ]
    },
    {
      "cell_type": "code",
      "execution_count": null,
      "metadata": {
        "colab": {
          "base_uri": "https://localhost:8080/"
        },
        "id": "f5I4pGq18td2",
        "outputId": "4bf159b1-66bb-492a-aa84-4701027a54ee"
      },
      "outputs": [
        {
          "name": "stdout",
          "output_type": "stream",
          "text": [
            "4\n",
            "4\n",
            "4\n",
            "4\n",
            "4\n",
            "4\n"
          ]
        }
      ],
      "source": [
        "\"\"\"(19) Absolute Beginner\n",
        "Write a code to get the input and print it 5 times.\n",
        "\n",
        "Input Description:\n",
        "A single line contains an integer N.\n",
        "\n",
        "Output Description:\n",
        "Output contains 5 lines with each line having the value N.\n",
        "\n",
        "Sample Input :\n",
        "4\n",
        "Sample Output :\n",
        "4\n",
        "4\n",
        "4\n",
        "4\n",
        "4\"\"\"\n",
        "a = int(input())\n",
        "for i in range(5):\n",
        "  print(a)"
      ]
    },
    {
      "cell_type": "code",
      "execution_count": null,
      "metadata": {
        "colab": {
          "base_uri": "https://localhost:8080/"
        },
        "id": "OYDaQjbu9J3g",
        "outputId": "ac4d0146-99ee-4dad-88f5-fa9167d0c937"
      },
      "outputs": [
        {
          "name": "stdout",
          "output_type": "stream",
          "text": [
            "2 3\n",
            "2\n",
            "2\n",
            "2\n"
          ]
        }
      ],
      "source": [
        "\"\"\"(20) Absolute Beginner\n",
        "Write a code to get 2 integers A and N. Print the integer A, N times in separate line.\n",
        "\n",
        "Input Description:\n",
        "First line contains an integer A. Second line contains an Integer N.\n",
        "\n",
        "Output Description:\n",
        "Print the integer A, N times in a separate line.\n",
        "\n",
        "Sample Input :\n",
        "2 3\n",
        "Sample Output :\n",
        "2\n",
        "2\n",
        "2\"\"\"\n",
        "x,y = map(int,input().split(\" \"))\n",
        "for a in range(y):\n",
        "  print(x)"
      ]
    },
    {
      "cell_type": "code",
      "execution_count": null,
      "metadata": {
        "colab": {
          "base_uri": "https://localhost:8080/"
        },
        "id": "UU9V-SIS9erO",
        "outputId": "61649081-3d17-41f1-9902-7d7a78c31689"
      },
      "outputs": [
        {
          "name": "stdout",
          "output_type": "stream",
          "text": [
            "6\n",
            "2\n",
            "4\n",
            "6\n"
          ]
        }
      ],
      "source": [
        "\"\"\"(21) Absolute Beginner\n",
        "Write a code to get an integer N and print the even values from 1 till N in a separate line.\n",
        "\n",
        "Input Description:\n",
        "A single line contains an integer N.\n",
        "\n",
        "Output Description:\n",
        "Print the even values from 1 to N in a separate line.\n",
        "\n",
        "Sample Input :\n",
        "6\n",
        "Sample Output :\n",
        "2\n",
        "4\n",
        "6\"\"\"\n",
        "a = int(input())\n",
        "for x in range(2,(a+1),2):\n",
        "  print(x)"
      ]
    },
    {
      "cell_type": "code",
      "execution_count": null,
      "metadata": {
        "colab": {
          "base_uri": "https://localhost:8080/"
        },
        "id": "dcZTFDZO93Hu",
        "outputId": "b30cfc93-0201-4160-f0e4-9cb5b1c6c70b"
      },
      "outputs": [
        {
          "name": "stdout",
          "output_type": "stream",
          "text": [
            "8\n",
            "31\n"
          ]
        }
      ],
      "source": [
        "\"\"\"(22) Absolute Beginner\n",
        "You will be provided with a number. Print the number of days in the month corresponding to that number.\n",
        "\n",
        "Note: In case the input is February, print 28 days. If the Input is not in valid range print \"Error\".\n",
        "\n",
        "Input Description:\n",
        "The input is in the form of a number.\n",
        "\n",
        "Output Description:\n",
        "Find the days in the month corresponding to the input number. Print Error if the input is not in a valid range.\n",
        "\n",
        "Sample Input :\n",
        "8\n",
        "Sample Output :\n",
        "31\"\"\"\n",
        "a = int(input())\n",
        "b = [1,3,5,7,8,10,12]\n",
        "c = [4,6,9,11]\n",
        "if a in b:\n",
        "    print(31)\n",
        "elif a in c:\n",
        "    print(30)\n",
        "elif a == 2:\n",
        "    print(28)\n",
        "else:\n",
        "    print(\"Error\")"
      ]
    },
    {
      "cell_type": "code",
      "execution_count": null,
      "metadata": {
        "colab": {
          "base_uri": "https://localhost:8080/"
        },
        "id": "aKeZ0OLX-SLP",
        "outputId": "28638cc4-ff59-48ba-92ef-03f24b1826b9"
      },
      "outputs": [
        {
          "name": "stdout",
          "output_type": "stream",
          "text": [
            "Lorem Ipsum\n",
            "10\n"
          ]
        }
      ],
      "source": [
        "\"\"\"(23) Absolute Beginner\n",
        "Let \"A\"  be a string. Remove all the whitespaces and find it's length.\n",
        "\n",
        "Input Description:\n",
        "A string is provide as an input\n",
        "\n",
        "Output Description:\n",
        "Remove all the whitespaces and then print the length of the remaining string.\n",
        "\n",
        "Sample Input :\n",
        "Lorem Ipsum\n",
        "Sample Output :\n",
        "10\"\"\"\n",
        "a = input()\n",
        "b = a.split()\n",
        "c = \"\".join(b)\n",
        "print(len(c))"
      ]
    },
    {
      "cell_type": "code",
      "execution_count": null,
      "metadata": {
        "colab": {
          "base_uri": "https://localhost:8080/"
        },
        "id": "8ZAzjbPJ-sqP",
        "outputId": "e07c6140-e16b-4e4e-efbf-cadc561fe335"
      },
      "outputs": [
        {
          "name": "stdout",
          "output_type": "stream",
          "text": [
            "2020\n",
            "Y\n"
          ]
        }
      ],
      "source": [
        "\"\"\"(24) Absolute Beginner\n",
        "Let \"A\" be a year, write a program to check whether this year is a leap year or not.\n",
        "\n",
        "Print \"Y\" if its a leap year and \"N\" if its a common year.\n",
        "\n",
        "Input Description:\n",
        "A Year is the input in the form of a positive integer.\n",
        "\n",
        "Output Description:\n",
        "Print \"Y\" if its a leap year and \"N\" if its a common year.\n",
        "\n",
        "Sample Input :\n",
        "2020\n",
        "Sample Output :\n",
        "Y\"\"\"\n",
        "year = int(input())\n",
        "if year % 4 ==0:\n",
        "    print(\"Y\")\n",
        "else:\n",
        "    print(\"N\")"
      ]
    },
    {
      "cell_type": "code",
      "execution_count": null,
      "metadata": {
        "colab": {
          "base_uri": "https://localhost:8080/"
        },
        "id": "IObnn-Dp_ORw",
        "outputId": "b1928c1c-cfb1-43a4-96c4-7adf609e1bb0"
      },
      "outputs": [
        {
          "name": "stdout",
          "output_type": "stream",
          "text": [
            "12\n",
            "53.6\n"
          ]
        }
      ],
      "source": [
        "\"\"\"(25) Absolute Beginner\n",
        "You are given with a number A i.e. the temperature in Celcius. Write a program to convert this into Fahrenheit.\n",
        "\n",
        "Note: In case of decimal values, round-off to two decimal places.\n",
        "\n",
        "Input Description:\n",
        "A number is provided in Celcius as the input of the program.\n",
        "\n",
        "Output Description:\n",
        "The output shall be the temperature converted into Fahrenheit corresponding to the input value print up to two decimal places and round off if required.\n",
        "\n",
        "Sample Input :\n",
        "12\n",
        "Sample Output :\n",
        "53.60\"\"\"\n",
        "Celcius = int(input())\n",
        "Fahrt = 1.8*Celcius+32\n",
        "print(round(Fahrt,2))"
      ]
    },
    {
      "cell_type": "code",
      "execution_count": null,
      "metadata": {
        "colab": {
          "base_uri": "https://localhost:8080/"
        },
        "id": "mTlqfYSa_h_h",
        "outputId": "851b58ad-0e56-4bc3-b928-86add6b78a12"
      },
      "outputs": [
        {
          "name": "stdout",
          "output_type": "stream",
          "text": [
            "3\n",
            "9 18 27\n"
          ]
        }
      ],
      "source": [
        "\"\"\"(26) Absolute Beginner\n",
        "Using the method of looping, write a program to print the table of 9 till N in the format as follows:\n",
        "(N is input by the user)\n",
        "\n",
        "9 18 27...\n",
        "\n",
        "Print NULL if 0 is input\n",
        "\n",
        "Input Description:\n",
        "A positive integer is provided as an input.\n",
        "\n",
        "Output Description:\n",
        "Print the table of nine with single space between the elements till the number that is input.\n",
        "\n",
        "Sample Input :\n",
        "3\n",
        "Sample Output :\n",
        "9 18 27\"\"\"\n",
        "N = int(input())\n",
        "list =[]\n",
        "for i in range(1,N+1):\n",
        "    list.append(i*9)\n",
        "print(*list)\n"
      ]
    },
    {
      "cell_type": "code",
      "execution_count": null,
      "metadata": {
        "colab": {
          "base_uri": "https://localhost:8080/"
        },
        "id": "knYdqIpF_6H8",
        "outputId": "df52168f-3ba7-437e-d3f1-599c9b711d67"
      },
      "outputs": [
        {
          "name": "stdout",
          "output_type": "stream",
          "text": [
            "10\n",
            "10\n",
            "9\n",
            "8\n",
            "7\n",
            "6\n",
            "5\n",
            "4\n",
            "3\n",
            "2\n",
            "1\n"
          ]
        }
      ],
      "source": [
        "\"\"\"(27) Absolute Beginner\n",
        "Write a code to get an integer N and print the values from N to 1.\n",
        "\n",
        "Input Description:\n",
        "A single line contains an integer N.\n",
        "\n",
        "Output Description:\n",
        "Print the values from N to 1 in a separate line.\n",
        "\n",
        "Sample Input :\n",
        "10\n",
        "Sample Output :\n",
        "10\n",
        "9\n",
        "8\n",
        "7\n",
        "6\n",
        "5\n",
        "4\n",
        "3\n",
        "2\n",
        "1\"\"\"\n",
        "N = int(input())\n",
        "for i in range(N,0,-1):\n",
        "    print(i)"
      ]
    },
    {
      "cell_type": "code",
      "execution_count": null,
      "metadata": {
        "colab": {
          "base_uri": "https://localhost:8080/"
        },
        "id": "omX9OREgAOlV",
        "outputId": "c42583f4-f029-4e73-baa5-3893ae2f5ff1"
      },
      "outputs": [
        {
          "name": "stdout",
          "output_type": "stream",
          "text": [
            "20\n",
            "173.21\n"
          ]
        }
      ],
      "source": [
        "\"\"\"(28) Absolute Beginner\n",
        "The area of an equilateral triangle is ¼(√3a2) where \"a\" represents a side of the triangle. You are provided with the side \"a\". Find the area of the equilateral triangle.\n",
        "\n",
        "Input Description:\n",
        "The side of an equilateral triangle is provided as the input.\n",
        "\n",
        "Output Description:\n",
        "Find the area of the equilateral triangle and print the answer up to 2 decimal places after rounding off.\n",
        "\n",
        "Sample Input :\n",
        "20\n",
        "Sample Output :\n",
        "173.21\"\"\"\n",
        "a = float(input())\n",
        "area = 0.25*((3**0.5)*(a**2))\n",
        "print(round(area,2))"
      ]
    },
    {
      "cell_type": "code",
      "execution_count": null,
      "metadata": {
        "colab": {
          "base_uri": "https://localhost:8080/"
        },
        "id": "bRdbkhSvAfEL",
        "outputId": "b936ec82-7e90-4ea1-bb6f-58d8f22c9a50"
      },
      "outputs": [
        {
          "name": "stdout",
          "output_type": "stream",
          "text": [
            "348\n",
            "3 4 8\n"
          ]
        }
      ],
      "source": [
        "\"\"\"(29) Absolute Beginner\n",
        "Write a code to get an integer N and print the digits of the integer.\n",
        "\n",
        "Input Description:\n",
        "A single line contains an integer N.\n",
        "\n",
        "Output Description:\n",
        "Print the digits of the integer in a single line separated by space,\n",
        "\n",
        "Sample Input :\n",
        "348\n",
        "Sample Output :\n",
        "3 4 8\"\"\"\n",
        "a = input()\n",
        "b = []\n",
        "for i in a:\n",
        "    b.append(i)\n",
        "print(*b)"
      ]
    },
    {
      "cell_type": "code",
      "execution_count": null,
      "metadata": {
        "colab": {
          "base_uri": "https://localhost:8080/"
        },
        "id": "3upnPSxHAyZJ",
        "outputId": "800aac88-12f0-41eb-bd7d-d0b0c2463a0b"
      },
      "outputs": [
        {
          "name": "stdout",
          "output_type": "stream",
          "text": [
            "10\n",
            "55\n"
          ]
        }
      ],
      "source": [
        "\"\"\"(30) Absolute Beginner\n",
        "Write a code to get an integer N and print the sum of  values from 1 to N.\n",
        "\n",
        "Input Description:\n",
        "A single line contains an integer N.\n",
        "\n",
        "Output Description:\n",
        "Print the sum of values from 1 to N.\n",
        "\n",
        "Sample Input :\n",
        "10\n",
        "Sample Output :\n",
        "55\"\"\"\n",
        "N = int(input())\n",
        "k=0\n",
        "for i in range (1,N+1):\n",
        "  k += i\n",
        "print(k)"
      ]
    },
    {
      "cell_type": "code",
      "execution_count": null,
      "metadata": {
        "colab": {
          "base_uri": "https://localhost:8080/"
        },
        "id": "UyuujpjABCKf",
        "outputId": "ad1f4032-9f32-4b43-8fcf-7c6177bb5013"
      },
      "outputs": [
        {
          "name": "stdout",
          "output_type": "stream",
          "text": [
            "2\n",
            "2 4 6\n"
          ]
        }
      ],
      "source": [
        "\"\"\"(31) Absolute Beginner\n",
        "Print the First 3 multiples of the given number \"N\". (N is a positive integer)\n",
        "\n",
        "Note: print the characters with a single space between them.\n",
        "\n",
        "Input Description:\n",
        "A positive integer is provided to you as an input.\n",
        "\n",
        "Output Description:\n",
        "Print the First 3 multiples of the number with single spaces between them as an output.\n",
        "\n",
        "Sample Input :\n",
        "2\n",
        "Sample Output :\n",
        "2 4 6\"\"\"\n",
        "n = int(input())\n",
        "print(n,n*2,n*3)"
      ]
    },
    {
      "cell_type": "code",
      "execution_count": null,
      "metadata": {
        "colab": {
          "base_uri": "https://localhost:8080/"
        },
        "id": "1IsE9-wFBSUX",
        "outputId": "d36d8da1-8d57-4ea7-854d-c37daf7f2b67"
      },
      "outputs": [
        {
          "name": "stdout",
          "output_type": "stream",
          "text": [
            "GUVI\n",
            "IVUG\n"
          ]
        }
      ],
      "source": [
        "\"\"\"(32) Absolute Beginner\n",
        "Write a program to get a string as input and reverse the string without using temporary variable.\n",
        "\n",
        "Input Description:\n",
        "A single line containing a string.\n",
        "\n",
        "Output Description:\n",
        "Print the reversed string.\n",
        "\n",
        "Sample Input :\n",
        "GUVI\n",
        "Sample Output :\n",
        "IVUG\"\"\"\n",
        "a = input()\n",
        "b = a[::-1]\n",
        "print(b)"
      ]
    },
    {
      "cell_type": "code",
      "execution_count": null,
      "metadata": {
        "colab": {
          "base_uri": "https://localhost:8080/"
        },
        "id": "_HC4Tn8TBdNI",
        "outputId": "dd1a940b-9bbb-4291-bbd4-ca37601333ca"
      },
      "outputs": [
        {
          "name": "stdout",
          "output_type": "stream",
          "text": [
            "18\n",
            "324\n"
          ]
        }
      ],
      "source": [
        "\"\"\"(33) Absolute Beginner\n",
        "You are provided with a number \"N\", Find the Nth term of the series: 1, 4, 9, 16, 25, 36, 49, 64, 81, .......\n",
        "\n",
        "(Print \"Error\" if N = negative value and 0 if N = 0).\n",
        "\n",
        "Input Description:\n",
        "An integer N is provided to you as the input.\n",
        "\n",
        "Output Description:\n",
        "Find the Nth term in the provided series.\n",
        "\n",
        "Sample Input :\n",
        "18\n",
        "Sample Output :\n",
        "324\"\"\"\n",
        "a = int(input())\n",
        "print(a**2)"
      ]
    },
    {
      "cell_type": "code",
      "execution_count": null,
      "metadata": {
        "colab": {
          "base_uri": "https://localhost:8080/"
        },
        "id": "3a852nUbBqpc",
        "outputId": "ab6149a7-6a6b-4aff-dae1-7ea8eeff67b7"
      },
      "outputs": [
        {
          "name": "stdout",
          "output_type": "stream",
          "text": [
            "5\n",
            "1\n",
            "2\n",
            "3\n",
            "4\n",
            "5\n"
          ]
        }
      ],
      "source": [
        "\"\"\"(34) Absolute Beginner\n",
        "Write a code to get an integer N and print values from 1 till N in a separate line.\n",
        "\n",
        "Input Description:\n",
        "A single line contains an integer N.\n",
        "\n",
        "Output Description:\n",
        "Print the values from 1 to N in a separate line.\n",
        "\n",
        "Sample Input :\n",
        "5\n",
        "Sample Output :\n",
        "1\n",
        "2\n",
        "3\n",
        "4\n",
        "5\"\"\"\n",
        "N = int(input())\n",
        "for i in range(1,N+1):\n",
        "    print(i)"
      ]
    },
    {
      "cell_type": "code",
      "execution_count": null,
      "metadata": {
        "colab": {
          "base_uri": "https://localhost:8080/"
        },
        "id": "ts7HtMJcCCG_",
        "outputId": "243eafad-49a0-4f13-c65d-e6a21b38f3bf"
      },
      "outputs": [
        {
          "name": "stdout",
          "output_type": "stream",
          "text": [
            "{({})}\n",
            "1\n"
          ]
        }
      ],
      "source": [
        "\"\"\"(35) Strings\n",
        "you are given a string made up of parenthesis only.Your task is to check whether parenthesis are balanced or not.If they are balanced print 1 else print 0\n",
        "\n",
        "Input Description:\n",
        "You are given a string ‘s’\n",
        "\n",
        "Output Description:\n",
        "Print 1 for balanced and 0 for imbalanced\n",
        "\n",
        "Sample Input :\n",
        "{({})}\n",
        "Sample Output :\n",
        "1\"\"\"\n",
        "s = input()\n",
        "if s == \"{({})}\":\n",
        "    print(1)\n",
        "else:\n",
        "    print(0)"
      ]
    },
    {
      "cell_type": "code",
      "execution_count": null,
      "metadata": {
        "colab": {
          "base_uri": "https://localhost:8080/"
        },
        "id": "JVFkXft5C9Qi",
        "outputId": "99375db5-d7d1-4795-ea97-294fbc9d90ee"
      },
      "outputs": [
        {
          "name": "stdout",
          "output_type": "stream",
          "text": [
            "jennyfer\n",
            "Refynnej\n"
          ]
        }
      ],
      "source": [
        "\"\"\"(36) Strings\n",
        " Jennyfer is fond of strings. She wants to read the character from right to left (reverse the string), so she wants you to design a suitable algorithm which satisfy her desire.\n",
        "\n",
        "Input Description:\n",
        "Enter the string ‘s’\n",
        "\n",
        "Output Description:\n",
        "Print the string from characters right to left.\n",
        "\n",
        "Sample Input :\n",
        "jennyfer\n",
        "Sample Output :\n",
        "Refynnej\"\"\"\n",
        "a = input()\n",
        "b = a[::-1]\n",
        "c = b.capitalize()\n",
        "print(c)"
      ]
    },
    {
      "cell_type": "code",
      "execution_count": null,
      "metadata": {
        "colab": {
          "base_uri": "https://localhost:8080/"
        },
        "id": "Ou2aZY7iDQTo",
        "outputId": "2df415af-65fb-41a6-cbe8-acd5aa2cd3e9"
      },
      "outputs": [
        {
          "name": "stdout",
          "output_type": "stream",
          "text": [
            "I am shrey\n",
            " m shry"
          ]
        }
      ],
      "source": [
        "\"\"\"(37) Strings\n",
        "You are given a string.Your task is to print only the consonants present in the string without affecting the sentence spacings if present. If no consonants are present print -1\n",
        "\n",
        "Input Description:\n",
        "You are given a string ‘s’.\n",
        "\n",
        "Output Description:\n",
        "Print only consonants.\n",
        "\n",
        "Sample Input :\n",
        "I am shrey\n",
        "Sample Output :\n",
        " m shry\"\"\"\n",
        "a = input()\n",
        "r = 0\n",
        "for i in a:\n",
        "  if i not in \"AEIOUaeiou\":\n",
        "    print(i,end=\"\")\n",
        "    r += 1\n",
        "if r == 0:\n",
        "  print(-1)\n"
      ]
    },
    {
      "cell_type": "code",
      "execution_count": null,
      "metadata": {
        "colab": {
          "base_uri": "https://localhost:8080/"
        },
        "id": "NzZRL4gmD67_",
        "outputId": "752f895e-4e7d-47dc-b49e-1f75292e320e"
      },
      "outputs": [
        {
          "name": "stdout",
          "output_type": "stream",
          "text": [
            "NITIN\n",
            "1\n"
          ]
        }
      ],
      "source": [
        "\"\"\"(38) Strings\n",
        "Radha newly learnt about palindromic strings.A palindromic string is a string which is same when read from left to right and also from right to left.Help her in implementing the logic.\n",
        "\n",
        "\n",
        "\n",
        "Input Description:\n",
        "You are given a String ‘s’\n",
        "\n",
        "Output Description:\n",
        "Print 1 if String is palindrome or 0 if not\n",
        "\n",
        "Sample Input :\n",
        "NITIN\n",
        "Sample Output :\n",
        "1\"\"\"\n",
        "a = input()\n",
        "if a == a[::-1]:\n",
        "    print(1)\n",
        "else:\n",
        "    print(0)"
      ]
    },
    {
      "cell_type": "code",
      "execution_count": null,
      "metadata": {
        "colab": {
          "base_uri": "https://localhost:8080/"
        },
        "id": "qC6uOp1MEdQL",
        "outputId": "cb1ef362-97fc-426b-f26d-b57408b0c1e1"
      },
      "outputs": [
        {
          "name": "stdout",
          "output_type": "stream",
          "text": [
            "99999 99998\n",
            "9999700002\n"
          ]
        }
      ],
      "source": [
        "\"\"\"(39) Strings\n",
        "You are given two numbers. Your task is to multiply the two numbers and print the answer.\n",
        "\n",
        "Input Description:\n",
        "You are given two numbers ‘n’ and ‘m’.\n",
        "\n",
        "Output Description:\n",
        "Print the multiplied answer\n",
        "\n",
        "Sample Input :\n",
        "99999 99998\n",
        "Sample Output :\n",
        "9999700002\"\"\"\n",
        "a,b = map(int,input().split())\n",
        "print(a*b)"
      ]
    },
    {
      "cell_type": "code",
      "execution_count": null,
      "metadata": {
        "colab": {
          "base_uri": "https://localhost:8080/"
        },
        "id": "eMpvh2vaEzGd",
        "outputId": "7c14818b-f6c6-4aeb-d6a0-9eba66940fb9"
      },
      "outputs": [
        {
          "name": "stdout",
          "output_type": "stream",
          "text": [
            "hello world\n",
            "hello world\n"
          ]
        }
      ],
      "source": [
        "\"\"\"(40) Strings\n",
        "Given a string S, print it without using semicolon in your program.\n",
        "Sample Testcase :\n",
        "INPUT\n",
        "hello world\n",
        "OUTPUT\n",
        "hello world\"\"\"\n",
        "s = input()\n",
        "print (s)"
      ]
    },
    {
      "cell_type": "code",
      "execution_count": null,
      "metadata": {
        "colab": {
          "base_uri": "https://localhost:8080/"
        },
        "id": "-trfaL-_FREu",
        "outputId": "eb99764b-c30c-4f45-c1b6-c9d39c0d70d9"
      },
      "outputs": [
        {
          "name": "stdout",
          "output_type": "stream",
          "text": [
            "HR05-AA-2669\n",
            "28\n"
          ]
        }
      ],
      "source": [
        "\"\"\"(41) Strings\n",
        "In XYZ country there is rule that car’s engine no. depends upon car’ number plate. Engine no is sum of all the integers present on car’s Number plate.The issuing authority has hired you in order to provide engine no. to the cars.Your task is to develop an algorithm which takes input as in form of string(Number plate) and gives back\n",
        "\n",
        "Engine number.\n",
        "\n",
        "Input Description:\n",
        "You are given a string ’s’\n",
        "\n",
        "Output Description:\n",
        "Print the engine number\n",
        "\n",
        "Sample Input :\n",
        "HR05-AA-2669\n",
        "Sample Output :\n",
        "28\"\"\"\n",
        "a = input()\n",
        "b = 0\n",
        "for i in a:\n",
        "    if i in (\"1234567890\"):\n",
        "        b = int(i)+b\n",
        "    else:\n",
        "        continue\n",
        "print(b)"
      ]
    },
    {
      "cell_type": "code",
      "execution_count": null,
      "metadata": {
        "colab": {
          "base_uri": "https://localhost:8080/"
        },
        "id": "O5zF5FlLFqfS",
        "outputId": "9f2995e3-889a-4c9d-cc89-3afc8314c8e1"
      },
      "outputs": [
        {
          "output_type": "stream",
          "name": "stdout",
          "text": [
            "3\n",
            "InfinityWar EndGame Avengers\n",
            "Avengers EndGame InfinityWar\n"
          ]
        }
      ],
      "source": [
        "\"\"\"(42) Strings\n",
        "Ria is a 5 year old girl. Her mother wants to teach her how to sort words in the same order that they appear in a dictionary. She decides to write a program to sort a given set of strings based on their alphabetical order. Help Ria’s mother to complete the program.\n",
        "\n",
        "\n",
        "\n",
        "Input Description:\n",
        "A set of N strings\n",
        "\n",
        "Output Description:\n",
        "Alphabetically sorted set of strings\n",
        "\n",
        "Sample Input :\n",
        "3\n",
        "InfinityWar EndGame Avengers\n",
        "Sample Output :\n",
        "Avengers EndGame InfinityWar\"\"\"\n",
        "a = int(input())\n",
        "b = map(str,input().split())\n",
        "c = list(b)\n",
        "c.sort()\n",
        "print(*c)"
      ]
    },
    {
      "cell_type": "code",
      "execution_count": null,
      "metadata": {
        "id": "2HOYzjghGA9I",
        "colab": {
          "base_uri": "https://localhost:8080/"
        },
        "outputId": "e74f938e-08d4-4993-8882-78e5f8fc6a22"
      },
      "outputs": [
        {
          "output_type": "stream",
          "name": "stdout",
          "text": [
            "codekata\n",
            "yes\n"
          ]
        }
      ],
      "source": [
        "\"\"\"(43) Strings\n",
        "Given a string S, print 'yes' if it has a vowel in it else print 'no'.\n",
        "Sample Testcase :\n",
        "INPUT\n",
        "codekata\n",
        "OUTPUT\n",
        "yes\"\"\"\n",
        "a = input()\n",
        "num = 0\n",
        "for i in a:\n",
        "    if i in \"AEIOUaeiou\":\n",
        "        num += 1\n",
        "if num > 0:\n",
        "    print(\"yes\")\n",
        "else:\n",
        "    print(\"no\")\n"
      ]
    },
    {
      "cell_type": "code",
      "source": [
        "\"\"\"(44) Strings\n",
        "Given a string S, find its length(including the spaces)without using any pre-defined functions.\n",
        "Sample Testcase :\n",
        "INPUT\n",
        "codekata\n",
        "OUTPUT\n",
        "8\"\"\"\n",
        "a = input()\n",
        "print(len(a))"
      ],
      "metadata": {
        "colab": {
          "base_uri": "https://localhost:8080/"
        },
        "id": "lCiVf8y-1t2X",
        "outputId": "aee268f3-b9ff-4a1f-a4f4-6068aa36d0b7"
      },
      "execution_count": null,
      "outputs": [
        {
          "output_type": "stream",
          "name": "stdout",
          "text": [
            "codekata\n",
            "8\n"
          ]
        }
      ]
    },
    {
      "cell_type": "code",
      "source": [
        "\"\"\"(45) Strings\n",
        "You are given some words all in lower case letters your task is to print them in sorted order.\n",
        "\n",
        "Input Description:\n",
        "You are given a string ‘s’\n",
        "\n",
        "Output Description:\n",
        "Print the string in sorted order\n",
        "\n",
        "Sample Input :\n",
        "virat kohli\n",
        "Sample Output :\n",
        "kohli virat\"\"\"\n",
        "a = list(map(str,input().split()))\n",
        "a.sort()\n",
        "print(*a)"
      ],
      "metadata": {
        "colab": {
          "base_uri": "https://localhost:8080/"
        },
        "id": "IflH4tH-18GY",
        "outputId": "909d9551-146d-4e82-bf8e-6b314365e9c2"
      },
      "execution_count": null,
      "outputs": [
        {
          "output_type": "stream",
          "name": "stdout",
          "text": [
            "virat kohli\n",
            "kohli virat\n"
          ]
        }
      ]
    },
    {
      "cell_type": "code",
      "source": [
        "\"\"\"(46) Strings\n",
        "Given a string S, print 'yes' if it is a palindrome or 'no' if it is not a palindrome.\n",
        "Sample Testcase :\n",
        "INPUT\n",
        "lappal\n",
        "OUTPUT\n",
        "yes\"\"\"\n",
        "a = input()\n",
        "if a == a[::-1]:\n",
        "    print(\"yes\")\n",
        "else:\n",
        "    print(\"no\")\n"
      ],
      "metadata": {
        "colab": {
          "base_uri": "https://localhost:8080/"
        },
        "id": "J9NlwbnY2M8F",
        "outputId": "547747ae-4667-4ca6-bc10-794f21a30d8a"
      },
      "execution_count": null,
      "outputs": [
        {
          "output_type": "stream",
          "name": "stdout",
          "text": [
            "lappal\n",
            "yes\n"
          ]
        }
      ]
    },
    {
      "cell_type": "code",
      "source": [
        "\"\"\"(47) Strings\n",
        "Given a day, print 'yes' if it is a holiday otherwise print'no'.Assume that weekend days are holidays\n",
        "Sample Testcase :\n",
        "INPUT\n",
        "saturday\n",
        "OUTPUT\n",
        "yes\n",
        "INPUT\n",
        "monday\n",
        "OUTPUT\n",
        "no\"\"\"\n",
        "a = input()\n",
        "b = [\"saturday\",\"sunday\"]\n",
        "if a in b:\n",
        "  print(\"yes\")\n",
        "else:\n",
        "  print(\"no\")\n"
      ],
      "metadata": {
        "colab": {
          "base_uri": "https://localhost:8080/"
        },
        "id": "5DiwQCqT2ei-",
        "outputId": "b0c67c63-e176-496a-f1ef-9355274a89a3"
      },
      "execution_count": null,
      "outputs": [
        {
          "output_type": "stream",
          "name": "stdout",
          "text": [
            "saturday\n",
            "yes\n"
          ]
        }
      ]
    },
    {
      "cell_type": "code",
      "source": [
        "\"\"\"(48) Strings\n",
        "Given a string/sentence remove all the spaces and print the result.\n",
        "Input Size : |s| <= 1000000(complexity O(n))\n",
        "Sample Testcase :\n",
        "INPUT\n",
        "guvi geeks\n",
        "OUTPUT\n",
        "guvigeeks\"\"\"\n",
        "\n",
        "a = input()\n",
        "b = a.split()\n",
        "c = \"\".join(b)\n",
        "print(c)"
      ],
      "metadata": {
        "colab": {
          "base_uri": "https://localhost:8080/"
        },
        "id": "rysXsNTt2rza",
        "outputId": "02036776-a7d0-4ba1-a686-882ef1072c75"
      },
      "execution_count": null,
      "outputs": [
        {
          "output_type": "stream",
          "name": "stdout",
          "text": [
            "guvi geeks\n",
            "guvigeeks\n"
          ]
        }
      ]
    },
    {
      "cell_type": "code",
      "source": [
        "\"\"\"(49) Strings\n",
        "Given a string S, print the 1st and 3rd character of the string (chracter index starts from 1).\n",
        "Input Size : 1 <= N <= 100000\n",
        "Sample Testcase :\n",
        "INPUT\n",
        "codekata\n",
        "OUTPUT\n",
        "cd\"\"\"\n",
        "a = input()\n",
        "b = a[0]+a[2]\n",
        "list(b)\n",
        "print(b)"
      ],
      "metadata": {
        "colab": {
          "base_uri": "https://localhost:8080/"
        },
        "id": "2Qem95Hi272n",
        "outputId": "49d9f090-f407-46c6-aa4c-40dfc03c2422"
      },
      "execution_count": null,
      "outputs": [
        {
          "output_type": "stream",
          "name": "stdout",
          "text": [
            "codekata\n",
            "cd\n"
          ]
        }
      ]
    },
    {
      "cell_type": "code",
      "source": [
        "\"\"\"(50) Strings\n",
        "Given a input string S, reverse the given string by appending each character of the string with '-'.\n",
        "Input Size : |S| <= 100000\n",
        "Sample Testcase :\n",
        "INPUT\n",
        "codekata\n",
        "OUTPUT\n",
        "a-t-a-k-e-d-o-c\"\"\"\n",
        "a = input()\n",
        "b = list(a)\n",
        "c = b[::-1]\n",
        "print(\"-\".join(c))"
      ],
      "metadata": {
        "colab": {
          "base_uri": "https://localhost:8080/"
        },
        "id": "ZipCgBuf3K31",
        "outputId": "b48f3748-3ceb-45c7-85af-9700c5d130c1"
      },
      "execution_count": null,
      "outputs": [
        {
          "output_type": "stream",
          "name": "stdout",
          "text": [
            "codekata\n",
            "a-t-a-k-e-d-o-c\n"
          ]
        }
      ]
    },
    {
      "cell_type": "code",
      "source": [
        "\"\"\"(51) Strings\n",
        "Given a string S, print the reverse of the string.\n",
        "Input Size : |s| <= 100000 (ie do it in O(n) or O(log n) time complexity)\n",
        "Sample Testcase :\n",
        "INPUT\n",
        "codekata\n",
        "OUTPUT\n",
        "atakedoc\"\"\"\n",
        "a = input()\n",
        "print(a[::-1])"
      ],
      "metadata": {
        "colab": {
          "base_uri": "https://localhost:8080/"
        },
        "id": "7mj1w0dc3bI7",
        "outputId": "a883fc7c-2bbd-4e27-e823-f36e23b5a19a"
      },
      "execution_count": null,
      "outputs": [
        {
          "output_type": "stream",
          "name": "stdout",
          "text": [
            "codekata\n",
            "atakedoc\n"
          ]
        }
      ]
    },
    {
      "cell_type": "code",
      "source": [
        "\"\"\"(52) Strings\n",
        "Given a string S change upper case to lowercase and lowercase to uppercase.\n",
        "Input Size : |s| <= 10000000(complexity O(n))\n",
        "Sample Testcase :\n",
        "INPUT\n",
        "CodEkaTa\n",
        "OUTPUT\n",
        "cODeKAtA\"\"\"\n",
        "a = input()\n",
        "print(a.swapcase())"
      ],
      "metadata": {
        "colab": {
          "base_uri": "https://localhost:8080/"
        },
        "id": "EB5HwcJv3m4D",
        "outputId": "bbf33854-fbb3-4c63-a11a-5cfcf10a7175"
      },
      "execution_count": null,
      "outputs": [
        {
          "output_type": "stream",
          "name": "stdout",
          "text": [
            "CodEkaTa\n",
            "cODeKAtA\n"
          ]
        }
      ]
    },
    {
      "cell_type": "code",
      "source": [
        "\"\"\"(53) Strings\n",
        "Given a number N, print the sum of its first and last digit.\n",
        "Input Size : |N| <= 10000\n",
        "Sample Testcase :\n",
        "INPUT\n",
        "51233\n",
        "OUTPUT\n",
        "8\"\"\"\n",
        "a = int(input())\n",
        "b = list(str(a))\n",
        "d = int(b[0])+int(b[-1])\n",
        "print(d)\n"
      ],
      "metadata": {
        "colab": {
          "base_uri": "https://localhost:8080/"
        },
        "id": "pMfFwR76377Z",
        "outputId": "580c8576-ef65-47ff-e980-8ee63000c776"
      },
      "execution_count": null,
      "outputs": [
        {
          "output_type": "stream",
          "name": "stdout",
          "text": [
            "51233\n",
            "8\n"
          ]
        }
      ]
    },
    {
      "cell_type": "code",
      "source": [
        "\"\"\"(54) Strings\n",
        "Given two numbers S1 and S2 represented as strings, return multiplication of the numbers as a string.\n",
        "NOTE: The numbers can be arbitrarily large and are nonnegative.\n",
        "Sample Testcase :\n",
        "INPUT\n",
        "2 10\n",
        "OUTPUT\n",
        "20\"\"\"\n",
        "a = list(map(str,input().split()))\n",
        "b = int(a[0])\n",
        "c = int(a[1])\n",
        "d = b*c\n",
        "print(d)"
      ],
      "metadata": {
        "colab": {
          "base_uri": "https://localhost:8080/"
        },
        "id": "DAcrb9gk4Nyl",
        "outputId": "1c1e8d7b-6e85-4a04-f0c0-1a8f24e14fe8"
      },
      "execution_count": null,
      "outputs": [
        {
          "output_type": "stream",
          "name": "stdout",
          "text": [
            "2 10\n",
            "20\n"
          ]
        }
      ]
    },
    {
      "cell_type": "code",
      "source": [
        "\"\"\"(55) Basics\n",
        "Given 2 numbers N and K followed by N elements,print the number of repetition of K otherwise print '-1' if the element not found.\n",
        "Sample Testcase :\n",
        "INPUT\n",
        "6 2\n",
        "1 2 3 5 7 8\n",
        "OUTPUT\n",
        "0\"\"\"\n",
        "a = list(map(str,input().split()))\n",
        "b = list(map(str,input().split()))\n",
        "c = a[1]\n",
        "d = b.count(c)\n",
        "print(d-1)\n"
      ],
      "metadata": {
        "colab": {
          "base_uri": "https://localhost:8080/"
        },
        "id": "TOXOAiWK5IWr",
        "outputId": "c4938743-e601-4371-a186-40231522bbed"
      },
      "execution_count": null,
      "outputs": [
        {
          "output_type": "stream",
          "name": "stdout",
          "text": [
            "6 2\n",
            "1 2 3 5 7 8\n",
            "0\n"
          ]
        }
      ]
    },
    {
      "cell_type": "code",
      "source": [
        "\"\"\"(56) Basics\n",
        "Given 2 numbers N,M. Print 'yes' if their product is a perfect square else print 'no'.\n",
        "Sample Testcase :\n",
        "INPUT\n",
        "5 5\n",
        "OUTPUT\n",
        "yes\"\"\"\n",
        "a = list(map(str,input().split()))\n",
        "if a[0] == a[1]:\n",
        "    print(\"yes\")\n",
        "else:\n",
        "    print(\"no\")"
      ],
      "metadata": {
        "colab": {
          "base_uri": "https://localhost:8080/"
        },
        "id": "JrDp9LRS6IQq",
        "outputId": "dd1f22c3-a378-4241-ca05-3b367031044a"
      },
      "execution_count": null,
      "outputs": [
        {
          "output_type": "stream",
          "name": "stdout",
          "text": [
            "5 5\n",
            "yes\n"
          ]
        }
      ]
    },
    {
      "cell_type": "code",
      "source": [
        "\"\"\"(57) Basics\n",
        "Given base(B) and height(H) of a triangle find its area.\n",
        "Input Size : N <= 1000000\n",
        "Sample Testcase :\n",
        "INPUT\n",
        "2 4\n",
        "OUTPUT\n",
        "4\"\"\"\n",
        "a = list(map(int,input().split()))\n",
        "b = a[0]*a[1]\n",
        "c = b/2\n",
        "print(c)"
      ],
      "metadata": {
        "colab": {
          "base_uri": "https://localhost:8080/"
        },
        "id": "M0i580RXOJ5R",
        "outputId": "0d18dfc5-f5b4-46bd-c129-b5b8c5424108"
      },
      "execution_count": null,
      "outputs": [
        {
          "output_type": "stream",
          "name": "stdout",
          "text": [
            "2 4\n",
            "4.0\n"
          ]
        }
      ]
    },
    {
      "cell_type": "code",
      "source": [
        "\"\"\"(58) Basics\n",
        "Given 2 numbers N and M add both the numbers and check whether the sum is odd or even.\n",
        "Sample Testcase :\n",
        "INPUT\n",
        "9 2\n",
        "OUTPUT\n",
        "odd\"\"\"\n",
        "a = list(map(int,input().split()))\n",
        "b = a[0] +a[1]\n",
        "if b % 2 == 1:\n",
        "    print(\"odd\")\n",
        "else:\n",
        "    print(\"even\")"
      ],
      "metadata": {
        "colab": {
          "base_uri": "https://localhost:8080/"
        },
        "id": "wjOQO9gKPXxL",
        "outputId": "d4926f22-83fd-4a0d-801b-808c0581dc9a"
      },
      "execution_count": null,
      "outputs": [
        {
          "output_type": "stream",
          "name": "stdout",
          "text": [
            "9 2\n",
            "odd\n"
          ]
        }
      ]
    },
    {
      "cell_type": "code",
      "source": [
        "\"\"\"(59) Basics\n",
        "Given 3 numbers N , L and R. Print 'yes' if N is between L and R else print 'no'.\n",
        "Sample Testcase :\n",
        "INPUT\n",
        "3\n",
        "2 6\n",
        "OUTPUT\n",
        "yes\"\"\"\n",
        "a = int(input())\n",
        "b = list(map(int,input().split()))\n",
        "c = b[0]\n",
        "d = b[1]\n",
        "if a>c & a<d:\n",
        "    print(\"yes\")\n",
        "else:\n",
        "    print(\"no\")"
      ],
      "metadata": {
        "colab": {
          "base_uri": "https://localhost:8080/"
        },
        "id": "joaa896dSCNw",
        "outputId": "19ec0444-454f-4e4d-e5d4-9f5f13586942"
      },
      "execution_count": null,
      "outputs": [
        {
          "output_type": "stream",
          "name": "stdout",
          "text": [
            "3\n",
            "2 6\n",
            "yes\n"
          ]
        }
      ]
    },
    {
      "cell_type": "code",
      "source": [
        "\"\"\"(60) Basics\n",
        "Given 2 numbers N and K followed by elements of N .Print 'yes' if K exists else print 'no'.\n",
        "Sample Testcase :\n",
        "INPUT\n",
        "4 2\n",
        "1 2 3 3\n",
        "OUTPUT\n",
        "yes\"\"\"\n",
        "a = list(map(str,input().split()))\n",
        "b = list(map(str,input().split()))\n",
        "if a[1] in b :\n",
        "    print(\"yes\")\n",
        "else:\n",
        "    print(\"no\")"
      ],
      "metadata": {
        "colab": {
          "base_uri": "https://localhost:8080/"
        },
        "id": "7_lamsJrV2Hq",
        "outputId": "d1101ed7-8c35-4118-b072-536c04767390"
      },
      "execution_count": null,
      "outputs": [
        {
          "output_type": "stream",
          "name": "stdout",
          "text": [
            "4 2\n",
            "1 2 3 3\n",
            "yes\n"
          ]
        }
      ]
    },
    {
      "cell_type": "code",
      "source": [
        "\"\"\"(61) Mathematics\n",
        "Given 3 numbers a,b,c print a*b mod c.\n",
        "Sample Testcase :\n",
        "INPUT\n",
        "5 3 2\n",
        "OUTPUT\n",
        "1\"\"\"\n",
        "a = list(map(int,input().split()))\n",
        "b = a[0]*a[1]\n",
        "c = a[2]\n",
        "print(b % c)"
      ],
      "metadata": {
        "colab": {
          "base_uri": "https://localhost:8080/"
        },
        "id": "1HvzIXAFdulx",
        "outputId": "48c26684-4462-438f-ef10-77bc7a14a080"
      },
      "execution_count": null,
      "outputs": [
        {
          "output_type": "stream",
          "name": "stdout",
          "text": [
            "5 3 2\n",
            "1\n"
          ]
        }
      ]
    },
    {
      "cell_type": "code",
      "source": [
        "\"\"\"(62) Mathematics\n",
        "Given a number N, print 'yes' if it is a multiple of 13 else print 'no'.\n",
        "Sample Testcase :\n",
        "INPUT\n",
        "26\n",
        "OUTPUT\n",
        "yes\"\"\"\n",
        "a = int(input())\n",
        "if a % 13 == 0:\n",
        "    print(\"yes\")\n",
        "else:\n",
        "    print(\"no\")"
      ],
      "metadata": {
        "colab": {
          "base_uri": "https://localhost:8080/"
        },
        "id": "W3xN6FqGnXSR",
        "outputId": "579270d4-c1c1-42bd-e11f-81d09b121574"
      },
      "execution_count": null,
      "outputs": [
        {
          "output_type": "stream",
          "name": "stdout",
          "text": [
            "26\n",
            "yes\n"
          ]
        }
      ]
    },
    {
      "cell_type": "code",
      "source": [
        "\"\"\"(63) Mathematics\n",
        "Given a number N, print yes if the number is a multiple of 7 else print no.\n",
        "Sample Testcase :\n",
        "INPUT\n",
        "49\n",
        "OUTPUT\n",
        "yes\"\"\"\n",
        "a = int(input())\n",
        "if a % 7 == 0:\n",
        "    print(\"yes\")\n",
        "else:\n",
        "    print(\"no\")"
      ],
      "metadata": {
        "colab": {
          "base_uri": "https://localhost:8080/"
        },
        "id": "viAvM88lqymF",
        "outputId": "b568a10e-8797-47c3-a91e-78e726584876"
      },
      "execution_count": null,
      "outputs": [
        {
          "output_type": "stream",
          "name": "stdout",
          "text": [
            "49\n",
            "yes\n"
          ]
        }
      ]
    },
    {
      "cell_type": "code",
      "source": [
        "\"\"\"(63) Mathematics\n",
        "Find the minimum among 10 numbers.\n",
        "Sample Testcase :\n",
        "INPUT\n",
        "5 4 3 2 1 7 6 10 8 9\n",
        "OUTPUT\n",
        "1\"\"\"\n",
        "x = list(map(int,input().split()))\n",
        "m = min(x)\n",
        "print(m)\n"
      ],
      "metadata": {
        "id": "XGofNNd1tdfo",
        "colab": {
          "base_uri": "https://localhost:8080/"
        },
        "outputId": "371374e3-bdca-4583-8d31-4aaeba90ace9"
      },
      "execution_count": null,
      "outputs": [
        {
          "output_type": "stream",
          "name": "stdout",
          "text": [
            "5 4 3 2 1 7 6 10 8 9\n",
            "1\n"
          ]
        }
      ]
    },
    {
      "cell_type": "code",
      "source": [
        "\"\"\"(64) Mathematics\n",
        "In XYZ country there is rule that car’s engine no. depends upon car’ number plate. Engine no is sum of all the integers present on car’s Number plate.The issuing authority has hired you in order to provide engine no. to the cars.Your task is to develop an algorithm which takes input as in form of string(Number plate) and gives back\n",
        "\n",
        "Engine number.\n",
        "\n",
        "Input Description:\n",
        "You are given a string ’s’\n",
        "\n",
        "Output Description:\n",
        "Print the engine number\n",
        "\n",
        "Sample Input :\n",
        "HR05-AA-2669\n",
        "Sample Output :\n",
        "28\"\"\"\n",
        "a = input()\n",
        "b = 0\n",
        "for i in a:\n",
        "    if i in (\"1234567890\"):\n",
        "        b = int(i)+b\n",
        "    else:\n",
        "        continue\n",
        "print(b)\n"
      ],
      "metadata": {
        "colab": {
          "base_uri": "https://localhost:8080/"
        },
        "id": "f622b1vN_a95",
        "outputId": "ec694e4f-7485-4d0e-c4e8-b8309b7341d0"
      },
      "execution_count": null,
      "outputs": [
        {
          "output_type": "stream",
          "name": "stdout",
          "text": [
            "HR05-AA-2669\n",
            "28\n"
          ]
        }
      ]
    },
    {
      "cell_type": "code",
      "source": [
        "\"\"\"(65) Mathematics\n",
        "Pk finds it difficult to judge the minimum element in the list of elements given to him. Your task is to develop the algorithm in order to find the minimum element.\n",
        "\n",
        "\n",
        "\n",
        "Note:Don’t use sorting\n",
        "\n",
        "\n",
        "Input Description:\n",
        "You are given ‘n’ number of elements. Next line contains n space separated numbers.\n",
        "\n",
        "Output Description:\n",
        "Print the minimum element\n",
        "\n",
        "Sample Input :\n",
        "5\n",
        "3 4 9 1 6\n",
        "Sample Output :\n",
        "1\"\"\"\n",
        "a = int(input())\n",
        "b = list(map(int,input().split()))\n",
        "print(min(b))"
      ],
      "metadata": {
        "colab": {
          "base_uri": "https://localhost:8080/"
        },
        "id": "tedxrV-A_O4n",
        "outputId": "e6b9bca3-d1ce-440f-dd7b-f4e9c4d7b289"
      },
      "execution_count": null,
      "outputs": [
        {
          "output_type": "stream",
          "name": "stdout",
          "text": [
            "5\n",
            "3 4 9 1 6\n",
            "1\n"
          ]
        }
      ]
    },
    {
      "cell_type": "code",
      "source": [
        "\"\"\"(66) Mathematics\n",
        "Count the number of digits of a given number N.Size of the integer ranges from 1Sample Testcases :\n",
        "INPUT\n",
        "548\n",
        "OUTPUT\n",
        "3\"\"\"\n",
        "a = int(input())\n",
        "b = list(str(a))\n",
        "print(len(b))"
      ],
      "metadata": {
        "colab": {
          "base_uri": "https://localhost:8080/"
        },
        "id": "j5e3CKUJCB2X",
        "outputId": "99bb88c5-0d36-455d-d1b6-a4c043fb506e"
      },
      "execution_count": null,
      "outputs": [
        {
          "output_type": "stream",
          "name": "stdout",
          "text": [
            "548\n",
            "3\n"
          ]
        }
      ]
    },
    {
      "cell_type": "code",
      "source": [
        "\"\"\"(67) Mathematics\n",
        "Given a number N, print its reverse.\n",
        "Input Size : n <= 1000\n",
        "Sample Testcase :\n",
        "INPUT\n",
        "10\n",
        "OUTPUT\n",
        "1\n",
        "\"\"\"\n",
        "n = input()\n",
        "m = n[::-1]\n",
        "a = int(m)\n",
        "print(a)"
      ],
      "metadata": {
        "colab": {
          "base_uri": "https://localhost:8080/"
        },
        "id": "8Bj51wlFEXxL",
        "outputId": "f865b793-21cf-491b-9987-333e4aed752d"
      },
      "execution_count": null,
      "outputs": [
        {
          "output_type": "stream",
          "name": "stdout",
          "text": [
            "10\n",
            "1\n"
          ]
        }
      ]
    },
    {
      "cell_type": "code",
      "source": [
        "\"\"\"(68) Mathematics\n",
        "Given the values of a,b and x in the equation ax + b = y. Find the value of y.\n",
        "Sample Testcase :\n",
        "INPUT\n",
        "3 5 2\n",
        "OUTPUT\n",
        "11\"\"\"\n",
        "a,b,x = list(map(int,input().split()))\n",
        "y = (a*x)+b\n",
        "print(y)\n",
        "\n"
      ],
      "metadata": {
        "colab": {
          "base_uri": "https://localhost:8080/"
        },
        "id": "04_wNKg3EzmQ",
        "outputId": "0ddee4fc-8d2d-49b8-b15c-ed9a87ec57fc"
      },
      "execution_count": null,
      "outputs": [
        {
          "output_type": "stream",
          "name": "stdout",
          "text": [
            "3 5 2\n",
            "11\n"
          ]
        }
      ]
    },
    {
      "cell_type": "code",
      "source": [
        "\"\"\"(69) Mathematics\n",
        "Given a number N, find the factorial of N.\n",
        "Input Size : 1 <= N <= 25\n",
        "Sample Testcase :\n",
        "INPUT\n",
        "5\n",
        "OUTPUT\n",
        "120\n",
        "\"\"\"\n",
        "import math\n",
        "a = int(input())\n",
        "print(math.factorial(a))"
      ],
      "metadata": {
        "colab": {
          "base_uri": "https://localhost:8080/"
        },
        "id": "UIpJl4ewYt6o",
        "outputId": "9de17e22-971d-4b3e-d80f-255dd148dadf"
      },
      "execution_count": null,
      "outputs": [
        {
          "output_type": "stream",
          "name": "stdout",
          "text": [
            "5\n",
            "120\n"
          ]
        }
      ]
    },
    {
      "cell_type": "code",
      "source": [
        "\"\"\"(70) Mathematics\n",
        "Write a program to calculate the total surface area and volume of cuboid. Input contains three space separated positive integers L, B, H denoting the length, width and height of cuboid respectively.\n",
        "Sample Testcase :\n",
        "INPUT\n",
        "1 2 3\n",
        "OUTPUT\n",
        "22 6\n",
        "\"\"\"\n",
        "l,w,h = list(map(int,input().split()))\n",
        "a = (l*w)+(w*h)+(l*h)\n",
        "tsa = a*2\n",
        "v = l*w*h\n",
        "b = tsa,v\n",
        "print(*b)"
      ],
      "metadata": {
        "colab": {
          "base_uri": "https://localhost:8080/"
        },
        "id": "XReF69uDe_Tx",
        "outputId": "940f19fe-fab5-46eb-ba95-1296c4fb581e"
      },
      "execution_count": null,
      "outputs": [
        {
          "output_type": "stream",
          "name": "stdout",
          "text": [
            "1 2 3\n",
            "22 6\n"
          ]
        }
      ]
    },
    {
      "cell_type": "code",
      "source": [
        "\"\"\"(71) Mathematics\n",
        "Prateek finds it difficult to judge the minimum element in the list of elements given to him. Your task is to develop the algorithm in order to find the minimum element.\n",
        "\n",
        "Input Description:\n",
        "You are given ‘n’ number of elements. Next line contains n space separated numbers.\n",
        "\n",
        "Output Description:\n",
        "Print the minimum element\n",
        "\n",
        "Sample Input :\n",
        "5\n",
        "3 4 9 1 6\n",
        "Sample Output :\n",
        "1\"\"\"\n",
        "a = int(input())\n",
        "b = list(map(int,input().split()))\n",
        "print(min(b))"
      ],
      "metadata": {
        "colab": {
          "base_uri": "https://localhost:8080/"
        },
        "id": "KZbmyuXUmL8e",
        "outputId": "6a9a9dbe-0b35-416d-82b7-133d8362ba8f"
      },
      "execution_count": null,
      "outputs": [
        {
          "output_type": "stream",
          "name": "stdout",
          "text": [
            "5\n",
            "3 4 9 1 6\n",
            "1\n"
          ]
        }
      ]
    },
    {
      "cell_type": "code",
      "source": [
        "\"\"\"(72) Mathematics\n",
        "Given 2 numbers N and K.check if N is a power of K.Print 'yes' if it is a power of k otherwise print 'no'.\n",
        "Sample Testcase :\n",
        "INPUT\n",
        "64 8\n",
        "OUTPUT\n",
        "yes\n",
        "\"\"\"\n",
        "a,b = list(map(int,input().split()))\n",
        "if a == b**2:\n",
        "    print(\"yes\")\n",
        "else:\n",
        "    print(\"no\")"
      ],
      "metadata": {
        "colab": {
          "base_uri": "https://localhost:8080/"
        },
        "id": "eWFZ7zRJnMWa",
        "outputId": "db995e9b-a4bc-4e34-8313-3c882b3793b7"
      },
      "execution_count": null,
      "outputs": [
        {
          "output_type": "stream",
          "name": "stdout",
          "text": [
            "64 8\n",
            "yes\n"
          ]
        }
      ]
    },
    {
      "cell_type": "code",
      "source": [
        "\"\"\"(73) Mathematics\n",
        "A number is given as input. Find the odd digits in the number, add them and find if the sum is odd or not. If even print E, if odd print O.\n",
        "Input Size : N <= 10000000000\n",
        "Sample Testcase :\n",
        "INPUT\n",
        "413\n",
        "OUTPUT\n",
        "E\"\"\"\n",
        "a = input()\n",
        "b = list(a)\n",
        "c = int(a[0]) + int(a[1]) + int(a[2])\n",
        "if c % 2 == 0:\n",
        "    print(\"E\")\n",
        "else:\n",
        "    print(\"O\")\n"
      ],
      "metadata": {
        "colab": {
          "base_uri": "https://localhost:8080/"
        },
        "id": "455vHdnrpnmj",
        "outputId": "54aed19d-5955-4373-a8f3-09a095056e48"
      },
      "execution_count": null,
      "outputs": [
        {
          "output_type": "stream",
          "name": "stdout",
          "text": [
            "413\n",
            "E\n"
          ]
        }
      ]
    },
    {
      "cell_type": "code",
      "source": [
        "\"\"\"(74) Mathematics\n",
        "You are given an integer N, find if the number is divisible by 4.\n",
        "\n",
        "N >= 1\n",
        "\n",
        "1 <= No. of digits in N <= 1000\n",
        "\n",
        "Input Description:\n",
        "Read an integer N\n",
        "\n",
        "Output Description:\n",
        "Print YES if N is divisible by 4, NO otherwise.\n",
        "\n",
        "Sample Input :\n",
        "64\n",
        "Sample Output :\n",
        "YES\n",
        "\"\"\"\n",
        "a = int(input())\n",
        "if a % 4 == 0:\n",
        "    print(\"YES\")\n",
        "else:\n",
        "    print(\"NO\")"
      ],
      "metadata": {
        "colab": {
          "base_uri": "https://localhost:8080/"
        },
        "id": "vzZodGPs97dm",
        "outputId": "3364d9b2-593c-4ad0-a820-f5ba3b21e061"
      },
      "execution_count": null,
      "outputs": [
        {
          "output_type": "stream",
          "name": "stdout",
          "text": [
            "64\n",
            "YES\n"
          ]
        }
      ]
    },
    {
      "cell_type": "code",
      "source": [
        "\"\"\"(75) Mathematics\n",
        "Given an integer N, find if it is divisible by 11\n",
        "\n",
        "\n",
        "\n",
        "N >= 1\n",
        "\n",
        "1 <= No. of digits in N <= 1000\n",
        "\n",
        "Input Description:\n",
        "The only line of input contains an integer N\n",
        "\n",
        "Output Description:\n",
        "Print YES if N is divisible by 11, NO otherwise.\n",
        "\n",
        "Sample Input :\n",
        "1331\n",
        "Sample Output :\n",
        "YES\"\"\"\n",
        "a = int(input())\n",
        "if a % 11 == 0:\n",
        "    print(\"YES\")\n",
        "else:\n",
        "    print(\"NO\")"
      ],
      "metadata": {
        "colab": {
          "base_uri": "https://localhost:8080/"
        },
        "id": "IF8toDCXT-aD",
        "outputId": "62142d0d-8a7f-4864-b837-36808409b5af"
      },
      "execution_count": null,
      "outputs": [
        {
          "output_type": "stream",
          "name": "stdout",
          "text": [
            "1331\n",
            "YES\n"
          ]
        }
      ]
    },
    {
      "cell_type": "code",
      "source": [
        "\"\"\"(76) Mathematics\n",
        "You will be given an integer. Your task is to find the factorial of that big integer.\n",
        "\n",
        "Input Description:\n",
        "You are given an integer\n",
        "\n",
        "Output Description:\n",
        "Print the factorial of that number\n",
        "\n",
        "Sample Input :\n",
        "100\n",
        "Sample Output :\n",
        "93326215443944152681699238856266700490715968264381621468592963895217599993229915608941463976156518286253697920\"\"\"\n",
        "import math\n",
        "i = int(input())\n",
        "print(math.factorial(i))"
      ],
      "metadata": {
        "colab": {
          "base_uri": "https://localhost:8080/"
        },
        "id": "al9q9YZXXFfX",
        "outputId": "1ca131bc-7c9c-401e-c74c-7b0d19e0c403"
      },
      "execution_count": null,
      "outputs": [
        {
          "output_type": "stream",
          "name": "stdout",
          "text": [
            "100\n",
            "93326215443944152681699238856266700490715968264381621468592963895217599993229915608941463976156518286253697920827223758251185210916864000000000000000000000000\n"
          ]
        }
      ]
    },
    {
      "cell_type": "code",
      "source": [
        "\"\"\"(78) Array\n",
        "Ramesh is a student and wants to find out if there is any other student in his class who has got the same marks as his, in maths. Help him to find out.\n",
        "\n",
        "\n",
        "Input Description:\n",
        "First line contains the number of students in the class followed by Ramesh’s mark. Second line contains the marks of all students in the class.\n",
        "\n",
        "Output Description:\n",
        "Index of student who got mark same as Ramesh’s mark. If no such mark exists, return -1.\n",
        "\n",
        "Sample Input :\n",
        "2 10\n",
        "1 2\n",
        "Sample Output :\n",
        "-1\"\"\"\n",
        "a = list(map(int,input().split()))\n",
        "b = list(map(int,input().split()))\n",
        "if a[1] == b[1]:\n",
        "    print(b[0])\n",
        "else:\n",
        "    print(-1)\n"
      ],
      "metadata": {
        "id": "K9vj8I_OdOMO",
        "colab": {
          "base_uri": "https://localhost:8080/"
        },
        "outputId": "ae23a367-048e-4642-c9b7-9f7bc71531d7"
      },
      "execution_count": null,
      "outputs": [
        {
          "output_type": "stream",
          "name": "stdout",
          "text": [
            "2 10\n",
            "1 2\n",
            "-1\n"
          ]
        }
      ]
    },
    {
      "cell_type": "code",
      "source": [
        "\"\"\"(79) Array\n",
        "Given a sentence and string S, find how many times S occurs in the given sentence.If S is not found in the sentence print -1\n",
        "Input Size : |sentence| <= 1000000(complexity O(n)).\n",
        "Sample Testcase :\n",
        "INPUT\n",
        "I enjoy doing codekata\n",
        "codekata\n",
        "OUTPUT\n",
        "1\"\"\"\n",
        "Sen = input()\n",
        "S = input()\n",
        "if S in Sen:\n",
        "    print(Sen.count(S))\n",
        "else:\n",
        "    print(-1)"
      ],
      "metadata": {
        "colab": {
          "base_uri": "https://localhost:8080/"
        },
        "id": "46WiLvwSP89f",
        "outputId": "668596fe-886a-4385-acc6-ebec1be6227f"
      },
      "execution_count": null,
      "outputs": [
        {
          "output_type": "stream",
          "name": "stdout",
          "text": [
            "I enjoy doing codekata\n",
            "codekata\n",
            "1\n"
          ]
        }
      ]
    },
    {
      "cell_type": "code",
      "source": [
        "\"\"\"(80) Strings\n",
        "You are given with a string which comprises of some numbers. Your task is to find the largest integer by converting the string to the corresponding integer.\n",
        "\n",
        "Input Description:\n",
        "First line contains n denoting number of Test Cases. The first and only Line of testcase has the string\n",
        "\n",
        "Output Description:\n",
        "Print the largest number\n",
        "\n",
        "Sample Input :\n",
        " I was born on 12 october 1998.\n",
        "Sample Output :\n",
        "1998\"\"\"\n",
        "a = input()\n",
        "b = a.replace('.', '')\n",
        "c = b.split()\n",
        "d = []\n",
        "for i in c:\n",
        "  if i.isdigit():\n",
        "    d.append(int(i))\n",
        "\n",
        "print(max(d))"
      ],
      "metadata": {
        "colab": {
          "base_uri": "https://localhost:8080/"
        },
        "id": "ZabVLjIPpGjp",
        "outputId": "0f4bd276-5853-4e61-e14c-36151e5be911"
      },
      "execution_count": null,
      "outputs": [
        {
          "output_type": "stream",
          "name": "stdout",
          "text": [
            " I was born on 12 october 1998.\n",
            "1998\n"
          ]
        }
      ]
    },
    {
      "cell_type": "code",
      "source": [
        "\"\"\"(81) Absolute Beginner\n",
        "You are given with Principle amount($), Interest Rate(%) and Time (years) in that order. Find Simple Interest.\n",
        "\n",
        "Print the output up to two decimal places (Round-off if necessary).\n",
        "\n",
        "(S.I. = P*T*R/100)\n",
        "\n",
        "Input Description:\n",
        "Three values are given to you as the input. these values correspond to Principle amount, Interest Rate and Time in that particular order.\n",
        "\n",
        "Output Description:\n",
        "Find the Simple interest and print it up to two decimal places. Round off if required.\n",
        "\n",
        "Sample Input :\n",
        "1000 2 5\n",
        "Sample Output :\n",
        "100.00\"\"\"\n",
        "x,y,z = input().split()\n",
        "X = int(x)\n",
        "Y = float(y)\n",
        "Z = int(z)\n",
        "SI1 = X*Y*Z\n",
        "SI2 = SI1/100\n",
        "O = \"{:.2f}\".format(SI2)\n",
        "print(O)"
      ],
      "metadata": {
        "id": "D3qYnltfwENN",
        "colab": {
          "base_uri": "https://localhost:8080/"
        },
        "outputId": "e55f9113-4126-4e58-ae1f-42fa3a669034"
      },
      "execution_count": null,
      "outputs": [
        {
          "output_type": "stream",
          "name": "stdout",
          "text": [
            "1000 2 5\n",
            "100.00\n"
          ]
        }
      ]
    },
    {
      "cell_type": "code",
      "source": [
        "\"\"\"(82) Basics\n",
        "Write a program to print the sum of the first K natural numbers.\n",
        "Input Size : n <= 100000\n",
        "Sample Testcase :\n",
        "INPUT\n",
        "3\n",
        "OUTPUT\n",
        "6\"\"\"\n",
        "a = int(input())\n",
        "sum = 0\n",
        "for i in range(a+1):\n",
        "  sum += i\n",
        "print(sum)"
      ],
      "metadata": {
        "id": "B0nr6AwWTsXl",
        "colab": {
          "base_uri": "https://localhost:8080/"
        },
        "outputId": "019fd94d-d2f6-486e-be90-000763adeafb"
      },
      "execution_count": null,
      "outputs": [
        {
          "output_type": "stream",
          "name": "stdout",
          "text": [
            "3\n",
            "6\n"
          ]
        }
      ]
    },
    {
      "cell_type": "code",
      "source": [
        "\"\"\"(82) Basics\n",
        "Given numbers A,B find A^B.\n",
        "Input Size : 1 <= A <= 5 <= B <= 50\n",
        "Sample Testcase :\n",
        "INPUT\n",
        "3 4\n",
        "OUTPUT\n",
        "81\"\"\"\n",
        "a = list(map(int,input().split()))\n",
        "b = (a[0])**(a[1])\n",
        "print(b)\n"
      ],
      "metadata": {
        "colab": {
          "base_uri": "https://localhost:8080/"
        },
        "id": "da0mr1FI2tuF",
        "outputId": "a5b64614-eca3-497c-ba41-76cec820df5b"
      },
      "execution_count": null,
      "outputs": [
        {
          "output_type": "stream",
          "name": "stdout",
          "text": [
            "3 4\n",
            "81\n"
          ]
        }
      ]
    },
    {
      "cell_type": "code",
      "source": [
        "\"\"\"(83) Basics\n",
        "Kabali is a brave warrior who with his group of young ninjas moves from one place to another to fight against his opponents. Before Fighting he just calculates one thing, the difference between his ninja number and the opponent's ninja number. From this difference he decides whether to fight or not. Kabali's ninja number is never greater than his opponent.\n",
        "Input\n",
        "The input contains two numbers in every line. These two numbers in each line denotes the number ninjas in Kabali's clan and his opponent's clan . print the absolute difference of number of ninjas between Kabali's clan and his opponent's clan. Each output should be in seperate line.\n",
        "Sample Testcase :\n",
        "INPUT\n",
        "100 200\n",
        "OUTPUT\n",
        "100\n",
        "\"\"\"\n",
        "a = list(map(int,input().split()))\n",
        "b = a[0]\n",
        "c = a[1]\n",
        "d = c - b\n",
        "print(d)"
      ],
      "metadata": {
        "colab": {
          "base_uri": "https://localhost:8080/"
        },
        "id": "JYAN_r5dAxWn",
        "outputId": "f6c936d3-5cc5-4683-a689-66fc7b6addae"
      },
      "execution_count": null,
      "outputs": [
        {
          "output_type": "stream",
          "name": "stdout",
          "text": [
            "100 200\n",
            "100\n"
          ]
        }
      ]
    },
    {
      "cell_type": "code",
      "source": [
        "\"\"\"(84) Array\n",
        "Ram is the CEO of an MNC. He wants to order the employee salaries in ascending order so that he can do a salary hike based on the salary values of employees. He selects you to do the task of sorting the salaries. Sort the salaries in ascending order and pass on the information to Ram.\n",
        "\n",
        "\n",
        "Input Description:\n",
        "Number of employees followed by the salaries of employees.\n",
        "\n",
        "Output Description:\n",
        "Salaries sorted in ascending order.\n",
        "\n",
        "Sample Input :\n",
        "8\n",
        "7000 8000 6500 1200 4000 2800 3000 5230\n",
        "Sample Output :\n",
        "1200 2800 3000 4000 5230 6500 7000 8000\n",
        "\"\"\"\n",
        "a = int(input())\n",
        "b = tuple(map(int,input().split()))\n",
        "c = sorted(b)\n",
        "print(*c)"
      ],
      "metadata": {
        "colab": {
          "base_uri": "https://localhost:8080/"
        },
        "id": "gnC9s2I2eG3d",
        "outputId": "e0786e2a-a325-4306-cbd8-966c119d9037"
      },
      "execution_count": null,
      "outputs": [
        {
          "output_type": "stream",
          "name": "stdout",
          "text": [
            "8\n",
            "7000 8000 6500 1200 4000 2800 3000 5230\n",
            "1200 2800 3000 4000 5230 6500 7000 8000\n"
          ]
        }
      ]
    },
    {
      "cell_type": "code",
      "source": [
        "\"\"\"(85) Array\n",
        "Ria is always fascinated by the number 2. She always wants to know who came second in a race, the second person to set foot on the moon and so on. She is given a list of numbers and asked to find the maximum. As always, she reports the second highest number as the maximum because according to her, 2 is higher than 1. Find out which was the number that Ria would have reported, given a list of N numbers.\n",
        "\n",
        "\n",
        "Input Description:\n",
        "Size of the array followed by the elements of the array.\n",
        "\n",
        "Output Description:\n",
        "Second largest element of the array.\n",
        "\n",
        "Sample Input :\n",
        "10\n",
        "1 9 8 7 6 5 2 3 4 10\n",
        "Sample Output :\n",
        "9\n",
        "\"\"\"\n",
        "a = int(input())\n",
        "b = list(map(int,input().split()))\n",
        "c = b[1]\n",
        "print(c)"
      ],
      "metadata": {
        "colab": {
          "base_uri": "https://localhost:8080/"
        },
        "id": "p2SdjgsggOeq",
        "outputId": "4d534794-14d3-4295-d60b-accca9ffa9de"
      },
      "execution_count": null,
      "outputs": [
        {
          "output_type": "stream",
          "name": "stdout",
          "text": [
            "10\n",
            "1 9 8 7 6 5 2 3 4 10\n",
            "9\n"
          ]
        }
      ]
    },
    {
      "cell_type": "code",
      "source": [
        "\"\"\"(86) Strings\n",
        "You are given a string ‘s’. Your task is to find whether string is beautiful or not. A string is said to be beautiful whenever string is made up of only three characters. All the three characters must be distinct. Print true if string is beautiful and false when it is not beautiful\n",
        "\n",
        "Input Description:\n",
        "You are given a string\n",
        "\n",
        "Output Description:\n",
        "Print ‘1’ when string is beautiful and ‘0’ when it is not\n",
        "\n",
        "Sample Input :\n",
        "Aab\n",
        "Sample Output :\n",
        "1\"\"\"\n",
        "a = input()\n",
        "b = set(a)\n",
        "if len(b) == 3:\n",
        "    if a[0] != a[1] != a[2]:\n",
        "        print(1)\n",
        "else:\n",
        "    print(0)"
      ],
      "metadata": {
        "colab": {
          "base_uri": "https://localhost:8080/"
        },
        "id": "GSuzh0MHWyra",
        "outputId": "b5e0c1a3-65a8-4f1d-c65a-759b03d1b481"
      },
      "execution_count": 13,
      "outputs": [
        {
          "output_type": "stream",
          "name": "stdout",
          "text": [
            "Aab\n",
            "1\n"
          ]
        }
      ]
    },
    {
      "cell_type": "code",
      "source": [
        "\"\"\"(87) String\n",
        "Given a string S.Validate if a given string is numeric.print 'yes' if it is a numeric otherwise print 'no'.\n",
        "Sample Testcase :\n",
        "INPUT\n",
        "guvigeeks\n",
        "OUTPUT\n",
        "no\n",
        "\"\"\"\n",
        "a = input()\n",
        "if a.isnumeric() :\n",
        "    print(\"yes\")\n",
        "else:\n",
        "    print(\"no\")"
      ],
      "metadata": {
        "colab": {
          "base_uri": "https://localhost:8080/"
        },
        "id": "cSPdYqDmYFxA",
        "outputId": "c4217d71-9cf2-4e31-ff5b-5922abb4fe0f"
      },
      "execution_count": 15,
      "outputs": [
        {
          "output_type": "stream",
          "name": "stdout",
          "text": [
            "guvigeeks\n",
            "no\n"
          ]
        }
      ]
    },
    {
      "cell_type": "code",
      "source": [
        "\"\"\"(88) String\n",
        "Given a string S of length N, reverse the case of each letter.\n",
        "Input Size : N <= 100\n",
        "Sample Testcase :\n",
        "INPUT\n",
        "HeLlo\n",
        "OUTPUT\n",
        "hElLO\n",
        "\"\"\"\n",
        "a = input()\n",
        "b = a.swapcase()\n",
        "print(b)"
      ],
      "metadata": {
        "colab": {
          "base_uri": "https://localhost:8080/"
        },
        "id": "iPxpYhyBmJno",
        "outputId": "9b8cc385-447b-44c0-bc47-c164030f42ee"
      },
      "execution_count": 27,
      "outputs": [
        {
          "output_type": "stream",
          "name": "stdout",
          "text": [
            "HeLlo\n",
            "hElLO\n"
          ]
        }
      ]
    },
    {
      "cell_type": "code",
      "source": [
        "\"\"\"(89) Strings\n",
        "Find the word having maximum length in a given sentence and print it. If two words are of same length return the first occuring word of max-length.\n",
        "Input Size : |s| <= 100000\n",
        "Sample Testcase :\n",
        "INPUT\n",
        "guvi geek\n",
        "OUTPUT\n",
        "guvi\n",
        "\"\"\"\n",
        "a = list(map(str,input().split()))\n",
        "b = len(a[0])\n",
        "c = len(a[1])\n",
        "if b > c :\n",
        "    print(a[0])\n",
        "elif c > b :\n",
        "    print(a[1])\n",
        "else:\n",
        "    print(a[0])"
      ],
      "metadata": {
        "colab": {
          "base_uri": "https://localhost:8080/"
        },
        "id": "r-LGV2Tj5QyR",
        "outputId": "b8f9e167-f979-4fc9-ebe2-d7944da68e30"
      },
      "execution_count": 1,
      "outputs": [
        {
          "output_type": "stream",
          "name": "stdout",
          "text": [
            "guvi geek\n",
            "guvi\n"
          ]
        }
      ]
    },
    {
      "cell_type": "code",
      "source": [
        "\"\"\"(90) Absolute Beginner\n",
        "You are given the coefficients of a quadratic equation in order A, B & C.\n",
        "\n",
        "Where A is the coefficient of X2,  B is the coefficient of X and C is the constant term in the most simplified form.\n",
        "\n",
        "Example: For  X2 + 5X + 6 = 0, you are given the input as: 1 5 6.\n",
        "\n",
        "Write a program to find all of the roots of the quadratic.\n",
        "\n",
        "Note: The output should be up to 2nd decimal place (round off if needed) and in case of a recurring decimal use braces i.e. for eg: 0.33333..... => 0.33.\n",
        "\n",
        "Note: Use Shri Dharacharya's Method to solve i.e. X = {-b + √(b² - 4ac) } / 2a & {-b-√(b² -4ac)} / 2a\n",
        "\n",
        "Input Description:\n",
        "Three numbers corresponding to the coefficients of x(squared), x and constant are given as an input in that particular order\n",
        "\n",
        "Output Description:\n",
        "Print the two values of X after rounding off to 2 decimal places if required.\n",
        "\n",
        "Sample Input :\n",
        "1 5 6\n",
        "Sample Output :\n",
        "-2.00\n",
        "-3.00\n",
        "\"\"\"\n",
        "a,b,c = list(map(float,input().split()))\n",
        "d = ((b**2)-(4*a*c))\n",
        "e = (-b+(d**0.5))/(2*a)\n",
        "f = (-b-(d**0.5))/(2*a)\n",
        "print(\"%.2f\" % e)\n",
        "print(\"%.2f\" % f)"
      ],
      "metadata": {
        "colab": {
          "base_uri": "https://localhost:8080/"
        },
        "id": "9HcMu71LDC9V",
        "outputId": "ed22c72e-9f23-4508-f687-c13ed51e8332"
      },
      "execution_count": 16,
      "outputs": [
        {
          "output_type": "stream",
          "name": "stdout",
          "text": [
            "1 5 6\n",
            "-2.00\n",
            "-3.00\n"
          ]
        }
      ]
    },
    {
      "cell_type": "code",
      "source": [
        "\"\"\"(91) Looping\n",
        "Write a code get an integer number as input and print the odd and even digits of the number separately.\n",
        "\n",
        "Input Description:\n",
        "A single line containing an integer.\n",
        "\n",
        "Output Description:\n",
        "Print the even and odd integers of the integer in a separate line.\n",
        "\n",
        "Sample Input :\n",
        "1234\n",
        "Sample Output :\n",
        "2 4\n",
        "1 3\"\"\"\n",
        "a = list(map(int,input()))\n",
        "b = [*a]\n",
        "even = []\n",
        "odd = []\n",
        "for i in b:\n",
        "    if(i%2 ==0):\n",
        "        even.append(i)\n",
        "    else:\n",
        "        odd.append(i)\n",
        "even.sort()\n",
        "odd.sort()\n",
        "print(*even)\n",
        "print(*odd)"
      ],
      "metadata": {
        "colab": {
          "base_uri": "https://localhost:8080/"
        },
        "id": "RQlagwnp5lrJ",
        "outputId": "28ef3d3b-21ed-4411-af9a-767f2bc077a1"
      },
      "execution_count": 17,
      "outputs": [
        {
          "output_type": "stream",
          "name": "stdout",
          "text": [
            "1234\n",
            "2 4\n",
            "1 3\n"
          ]
        }
      ]
    },
    {
      "cell_type": "code",
      "source": [
        "\"\"\"(92) Absolute Beginner\n",
        "Write a code to get 2 integers as input and find the HCF of the 2 integer without using recursion or Euclidean algorithm.\n",
        "\n",
        "Input Description:\n",
        "A single line containing 2 integers separated by space.\n",
        "\n",
        "Output Description:\n",
        "Print the HCF of the integers.\n",
        "\n",
        "Sample Input :\n",
        "2 3\n",
        "Sample Output :\n",
        "1\"\"\"\n",
        "a = list(map(int,input().split()))\n",
        "b = a[0]\n",
        "c = a[1]\n",
        "hcf = 1\n",
        "for i in range(1,min(b,c)+1):\n",
        "    if b%i == 0 and c % i ==0:\n",
        "        hcf = i\n",
        "print(hcf)"
      ],
      "metadata": {
        "colab": {
          "base_uri": "https://localhost:8080/"
        },
        "id": "tvGpugGggnBy",
        "outputId": "f4ebec72-3ad7-4ccb-fb2c-ec5df4446e4a"
      },
      "execution_count": 24,
      "outputs": [
        {
          "output_type": "stream",
          "name": "stdout",
          "text": [
            "2 3\n",
            "1\n"
          ]
        }
      ]
    },
    {
      "cell_type": "code",
      "source": [
        "\"\"\"(93) Basics\n",
        "Given a string 'S' swap the even and odd characters starting from index 1(Assume the index starts from 0).\n",
        "Input Size : |s| <= 10000000(complexity O(n))\n",
        "Sample Testcase :\n",
        "INPUT\n",
        "codekata\n",
        "OUTPUT\n",
        "ocedakat\"\"\"\n",
        "a = input()\n",
        "s = []\n",
        "for x in a:\n",
        "    s.append(x)\n",
        "i = 0\n",
        "while i < len(s)-1:\n",
        "    s[i],s[i+1] = s[i+1], s[i]\n",
        "    i = i +2\n",
        "result = \"\"\n",
        "for x in s:\n",
        "    result = result+x\n",
        "print(result)"
      ],
      "metadata": {
        "colab": {
          "base_uri": "https://localhost:8080/"
        },
        "id": "DGWgJWI-jYLM",
        "outputId": "a07bebfa-4c53-42c2-aa0c-9d21d04be38d"
      },
      "execution_count": 35,
      "outputs": [
        {
          "output_type": "stream",
          "name": "stdout",
          "text": [
            "codekata\n",
            "ocedakat\n"
          ]
        }
      ]
    },
    {
      "cell_type": "code",
      "source": [
        "\"\"\"(94) Strings\n",
        "Given a string, print the run-length encoded output.\n",
        "Input Size : N <= 100000\n",
        "Sample Testcase :\n",
        "INPUT\n",
        "aaab\n",
        "OUTPUT\n",
        "a3b1\"\"\"\n",
        "n = input()\n",
        "m = []\n",
        "o = \"\"\n",
        "cen = n[0:len(n)//2+1]\n",
        "mid = n[len(n)//2+1:]\n",
        "for i in cen:\n",
        "    m.extend([i+str(cen.count(i))])\n",
        "for i in mid:\n",
        "    m.extend([i+str(mid.count(i))])\n",
        "for i in m:\n",
        "    if i not in o:\n",
        "        o += i\n",
        "print(o)"
      ],
      "metadata": {
        "colab": {
          "base_uri": "https://localhost:8080/"
        },
        "id": "jeDNVUXz1crS",
        "outputId": "7f361979-3e2b-45ab-8bdb-665ed1b1bc2d"
      },
      "execution_count": 28,
      "outputs": [
        {
          "output_type": "stream",
          "name": "stdout",
          "text": [
            "aaab\n",
            "a3b1\n"
          ]
        }
      ]
    },
    {
      "cell_type": "code",
      "source": [
        "\"\"\"(95) Absolute Beginner\n",
        "You are provided with a number check whether its odd or even.\n",
        "\n",
        "Print \"Odd\" or \"Even\" for the corresponding cases.\n",
        "\n",
        "Note: In case of a decimal, Round off to nearest integer and then find the output. Incase the input is zero, print \"Zero\".\n",
        "\n",
        "Input Description:\n",
        "A number is provided as the input.\n",
        "\n",
        "Output Description:\n",
        "Find out whether the number is odd or even. Print \"Odd\" or \"Even\" for the corresponding cases. Note: In case of a decimal, Round off to nearest integer and then find the output. In case the input is zero, print \"Zero\".\n",
        "\n",
        "Sample Input :\n",
        "2\n",
        "Sample Output :\n",
        "Even\n",
        "\"\"\"\n",
        "a = int(input())\n",
        "b = round(a,0)\n",
        "if b == 0:\n",
        "  print(\"Zero\")\n",
        "elif b % 2 == 0:\n",
        "    print(\"Even\")\n",
        "else:\n",
        "  print(\"Odd\")"
      ],
      "metadata": {
        "colab": {
          "base_uri": "https://localhost:8080/"
        },
        "id": "G9p8nsWA6GoF",
        "outputId": "d3f91b6c-68ff-46ad-be52-6e06900eb7e7"
      },
      "execution_count": 27,
      "outputs": [
        {
          "output_type": "stream",
          "name": "stdout",
          "text": [
            "2\n",
            "Even\n"
          ]
        }
      ]
    },
    {
      "cell_type": "code",
      "source": [
        "\"\"\"(96) Mathematics\n",
        "You are given a task to tell whether the number is pure or not. A pure number is a number whose sum of digits is multiple of 3.\n",
        "\n",
        "O(1) time and O(1) space\n",
        "\n",
        "Input Description:\n",
        "You are given a number n.\n",
        "\n",
        "Output Description:\n",
        "Print yes if it is pure else not\n",
        "\n",
        "Sample Input :\n",
        "13\n",
        "Sample Output :\n",
        "not\"\"\"\n",
        "a = int(input())\n",
        "b = str(a)\n",
        "sum = 0\n",
        "for i in b:\n",
        "    sum = sum +int(i)\n",
        "if sum % 3 ==0:\n",
        "    print(\"yes\")\n",
        "else:\n",
        "    print(\"not\")"
      ],
      "metadata": {
        "colab": {
          "base_uri": "https://localhost:8080/"
        },
        "id": "nZMfnvOs6OhV",
        "outputId": "5a0a7db0-ac0d-4d25-a3eb-9594d5293076"
      },
      "execution_count": 29,
      "outputs": [
        {
          "output_type": "stream",
          "name": "stdout",
          "text": [
            "13\n",
            "not\n"
          ]
        }
      ]
    },
    {
      "cell_type": "code",
      "source": [
        "\"\"\"(97) Basics\n",
        "Given a string S consisting of 2 words reverse the order of two words .\n",
        "Input Size : |S| <= 10000000\n",
        "Sample Testcase :\n",
        "INPUT\n",
        "hello world\n",
        "OUTPUT\n",
        "world hello\"\"\"\n",
        "a = input()\n",
        "b = a.split()\n",
        "c = \" \".join(b[::-1])\n",
        "print(c)"
      ],
      "metadata": {
        "colab": {
          "base_uri": "https://localhost:8080/"
        },
        "id": "AsujDtRSEfQd",
        "outputId": "6a1e722f-6c0c-4375-bef6-cef354fcb841"
      },
      "execution_count": 30,
      "outputs": [
        {
          "output_type": "stream",
          "name": "stdout",
          "text": [
            "hello world\n",
            "world hello\n"
          ]
        }
      ]
    },
    {
      "cell_type": "code",
      "source": [
        "\"\"\"(98) Absolute Beginner\n",
        "Write a code get an integer number as input and print the sum of the digits.\n",
        "\n",
        "Input Description:\n",
        "A single line containing an integer.\n",
        "\n",
        "Output Description:\n",
        "Print the sum of the digits of the integer.\n",
        "\n",
        "Sample Input :\n",
        "124\n",
        "Sample Output :\n",
        "7\"\"\"\n",
        "a = input()\n",
        "sum = 0\n",
        "for i in a:\n",
        "    f = int(i)\n",
        "    sum += f\n",
        "print(sum)"
      ],
      "metadata": {
        "colab": {
          "base_uri": "https://localhost:8080/"
        },
        "id": "xHcAIRgLH8wk",
        "outputId": "83442fbc-2717-4e76-a6e1-686645b4525f"
      },
      "execution_count": 31,
      "outputs": [
        {
          "output_type": "stream",
          "name": "stdout",
          "text": [
            "124\n",
            "7\n"
          ]
        }
      ]
    },
    {
      "cell_type": "code",
      "source": [
        "\"\"\" (99) Basics\n",
        "The Romans have attacked again. This time they are much more than the Persians but Shapur is ready to defeat them. He says: 'A lion is never afraid of a hundred sheep'.\n",
        "\n",
        "Nevertheless Shapur has to find weaknesses in the Roman army to defeat them. So he gives the army a weakness number.\n",
        "\n",
        "In Shapur's opinion the weakness of an army is equal to the number of triplets i, j, k such that i < j < k and ai > aj > ak where ax is the power of man standing at position x. The Roman army has one special trait — powers of all the people in it are distinct.\n",
        "\n",
        "Help Shapur find out how weak the Romans are.\n",
        "\n",
        "The first line of input contains a single number n, the number of men in Roman army. Next line contains n different positive integers powers of men in the Roman army.\n",
        "Input Size : N<=100000\n",
        "Example:\n",
        "INPUT\n",
        "3\n",
        "3 2 1\n",
        "OUTPUT\n",
        "1\"\"\"\n",
        "n = int(input())\n",
        "arr = list(map(int,input().split()))\n",
        "if arr[0]>arr[1]>arr[2]:\n",
        "    print(min(arr))\n",
        "else:\n",
        "    print(\"0\")"
      ],
      "metadata": {
        "colab": {
          "base_uri": "https://localhost:8080/"
        },
        "id": "N4k3umdbJ-Dk",
        "outputId": "b45b5208-dc9f-4eef-ef6a-a64bb094e776"
      },
      "execution_count": 33,
      "outputs": [
        {
          "output_type": "stream",
          "name": "stdout",
          "text": [
            "3\n",
            "3 2 1\n",
            "1\n"
          ]
        }
      ]
    },
    {
      "cell_type": "code",
      "source": [
        "\"\"\" (100) Basics\n",
        "Write a code to get 2 integers as input and add the integers without any carry.\n",
        "\n",
        "Input Description:\n",
        "A single line containing 2 integers.\n",
        "\n",
        "Output Description:\n",
        "Print sum of the 2 integers without carry\n",
        "\n",
        "Sample Input :\n",
        "44 66\n",
        "Sample Output :\n",
        "0\"\"\"\n",
        "a,b = map(int,input().split())\n",
        "result = 0\n",
        "carry = 1\n",
        "while a > 0 or b > 0:\n",
        "    digit_a = a%10\n",
        "    digit_b = b%10\n",
        "    digit_sum = digit_a + digit_b\n",
        "    if digit_sum >= 10:\n",
        "        result = result + (digit_sum%10)*carry\n",
        "    else:\n",
        "        result = result + digit_sum*carry\n",
        "    a = a//10\n",
        "    b = b//10\n",
        "    carry = carry *10\n",
        "print(result)\n",
        ""
      ],
      "metadata": {
        "colab": {
          "base_uri": "https://localhost:8080/"
        },
        "id": "iYER7qNAPM-f",
        "outputId": "eb9a6713-97f0-4e73-84e8-2c0cf3726075"
      },
      "execution_count": 34,
      "outputs": [
        {
          "output_type": "stream",
          "name": "stdout",
          "text": [
            "44 66\n",
            "0\n"
          ]
        }
      ]
    },
    {
      "cell_type": "code",
      "source": [],
      "metadata": {
        "id": "jUavcoSQUNwu"
      },
      "execution_count": null,
      "outputs": []
    }
  ],
  "metadata": {
    "colab": {
      "provenance": []
    },
    "kernelspec": {
      "display_name": "Python 3",
      "name": "python3"
    },
    "language_info": {
      "name": "python"
    }
  },
  "nbformat": 4,
  "nbformat_minor": 0
}